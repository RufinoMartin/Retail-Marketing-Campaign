{
 "cells": [
  {
   "cell_type": "markdown",
   "metadata": {},
   "source": [
    "# Dunnhumby Dataset\n",
    "\n",
    "Pursuing a comprehensive approach over a Complex Retail Dataset.\n",
    "\n",
    "- Data Understanding\n",
    "- Datasets Quality Verification\n",
    "- Exploratory Data Analysis\n",
    "- Answering Business Questions\n",
    "- Visualizations\n",
    "- KPI development\n",
    "- ML Model to predict Targets"
   ]
  },
  {
   "cell_type": "markdown",
   "metadata": {},
   "source": [
    "## Kaggle Description:\n",
    "\n",
    "This dataset contains household level transactions over two years from a group of 2,500 households who are frequent shoppers at a retailer. It contains all of each household’s purchases, not just those from a limited number of categories. For certain households, demographic information as well as direct marketing contact history are included.\n",
    "\n",
    "Due to the number of tables (8) and the overall complexity of The Complete Journey, it is suggested that this database be used in more advanced classroom settings. Further, The Complete Journey would be ideal for academic research as it should enable one to study the effects of direct marketing to customers.\n",
    "\n",
    "The following are examples of questions that could be submitted to students or considered for academic research:\n",
    "\n",
    "- How many customers are spending more over time? Less over time? Describe these customers.\n",
    "- Of those customers who are spending more over time, which categories are growing at a faster rate?\n",
    "- Of those customers who are spending less over time, with which categories are they becoming less engaged?\n",
    "- Which demographic factors (e.g. household size, presence of children, income) appear to affect customer spend? -Engagement with certain categories?\n",
    "- Is there evidence to suggest that direct marketing improves overall engagement?\n",
    "\n",
    "Source: https://www.kaggle.com/datasets/frtgnn/dunnhumby-the-complete-journey?datasetId=408408&sortBy=voteCount"
   ]
  },
  {
   "cell_type": "markdown",
   "metadata": {},
   "source": [
    "# How to read this notebook\n",
    "\n",
    "\n",
    "\n",
    "Appart from the typical technical and methodological sections, the EDA of this notebook follows an order based on the 8 distinct datasets provided. \n",
    "Instead of splitting the wrangling and business analysis in different notebooks, it will all developed as cleanse and ordered as posible in this unique notebook.\n",
    "As it may arise, datasets' inspection, business questions, visualizations and observations will be deployed, respecting the order of the different datasets, which can be seen in the index as grouping titles.\n",
    "After developing the features and target variables for the machine learning model, a comprehensive unique dataframe will be generated, so as to have in one place all and only needed for our prediction."
   ]
  },
  {
   "cell_type": "markdown",
   "metadata": {},
   "source": [
    "# Library Import"
   ]
  },
  {
   "cell_type": "code",
   "execution_count": 15,
   "metadata": {},
   "outputs": [],
   "source": [
    "import pandas as pd \n",
    "import numpy as np \n",
    "\n",
    "# Visualizations\n",
    "\n",
    "import matplotlib.pyplot as plt\n",
    "from matplotlib.ticker import FormatStrFormatter\n",
    "from matplotlib import style\n",
    "import matplotlib.image as mpimg\n",
    "%matplotlib inline\n",
    "import seaborn as sns\n",
    "sns.set_style('darkgrid')\n",
    "from seaborn import distplot\n",
    "from seaborn import boxplot\n",
    "from seaborn import violinplot\n",
    "import plotly.graph_objs as go\n",
    "import plotly.tools as tls\n",
    "import plotly.graph_objects as go\n",
    "import plotly.figure_factory as ff\n",
    "import plotly.express as px\n",
    "%matplotlib inline\n",
    "\n",
    "\n",
    "# Warnings\n",
    "\n",
    "import warnings\n",
    "warnings.filterwarnings('ignore')"
   ]
  },
  {
   "cell_type": "markdown",
   "metadata": {},
   "source": [
    "# Data import"
   ]
  },
  {
   "cell_type": "code",
   "execution_count": 16,
   "metadata": {},
   "outputs": [],
   "source": [
    "df_campaing_dates = pd.read_csv('Data\\campaign_desc.csv')\n",
    "df_campaign_hh = pd.read_csv('Data\\campaign_table.csv')\n",
    "df_causal = pd.read_csv('Data\\causal_data.csv')\n",
    "df_coupons_redempt = pd.read_csv('Data\\coupon_redempt.csv')\n",
    "df_coupons = pd.read_csv('Data\\coupon.csv')\n",
    "df_demographics = pd.read_csv('Data\\hh_demographic.csv')\n",
    "df_product = pd.read_csv('Data\\product.csv')\n",
    "df_transactions = pd.read_csv('Data\\Transaction_data.csv')"
   ]
  },
  {
   "cell_type": "markdown",
   "metadata": {},
   "source": [
    "# Data Understanding"
   ]
  },
  {
   "cell_type": "code",
   "execution_count": 17,
   "metadata": {},
   "outputs": [
    {
     "name": "stdout",
     "output_type": "stream",
     "text": [
      "df1 (campaign_desc) columns are :  Index(['DESCRIPTION', 'CAMPAIGN', 'START_DAY', 'END_DAY'], dtype='object') \n",
      "------------------------------------------------------------------------------------\n",
      " df2 (campaign_table)columns are :  Index(['DESCRIPTION', 'household_key', 'CAMPAIGN'], dtype='object') \n",
      "------------------------------------------------------------------------------------\n",
      " df3 (causal_data)columns are :  Index(['PRODUCT_ID', 'STORE_ID', 'WEEK_NO', 'display', 'mailer'], dtype='object') \n",
      "------------------------------------------------------------------------------------\n",
      " df4 (coupon_redempt)columns are :  Index(['household_key', 'DAY', 'COUPON_UPC', 'CAMPAIGN'], dtype='object') \n",
      "------------------------------------------------------------------------------------\n",
      " df5 (coupon)columns are :  Index(['COUPON_UPC', 'PRODUCT_ID', 'CAMPAIGN'], dtype='object') \n",
      "------------------------------------------------------------------------------------\n",
      " df6 (hh_demographic)columns are :  Index(['AGE_DESC', 'MARITAL_STATUS_CODE', 'INCOME_DESC', 'HOMEOWNER_DESC',\n",
      "       'HH_COMP_DESC', 'HOUSEHOLD_SIZE_DESC', 'KID_CATEGORY_DESC',\n",
      "       'household_key'],\n",
      "      dtype='object') \n",
      "------------------------------------------------------------------------------------\n",
      " df7 (product)columns are :  Index(['PRODUCT_ID', 'MANUFACTURER', 'DEPARTMENT', 'BRAND', 'COMMODITY_DESC',\n",
      "       'SUB_COMMODITY_DESC', 'CURR_SIZE_OF_PRODUCT'],\n",
      "      dtype='object') \n",
      "------------------------------------------------------------------------------------\n",
      " df8 (Transaction_data)columns are :  Index(['household_key', 'BASKET_ID', 'DAY', 'PRODUCT_ID', 'QUANTITY',\n",
      "       'SALES_VALUE', 'STORE_ID', 'RETAIL_DISC', 'TRANS_TIME', 'WEEK_NO',\n",
      "       'COUPON_DISC', 'COUPON_MATCH_DISC'],\n",
      "      dtype='object')\n"
     ]
    }
   ],
   "source": [
    "print(\n",
    "    \n",
    "    \"df1 (campaign_desc) columns are : \" , df_campaing_dates.columns, '\\n------------------------------------------------------------------------------------\\n',\n",
    "    \"df2 (campaign_table)columns are : \" , df_campaign_hh.columns, '\\n------------------------------------------------------------------------------------\\n',\n",
    "    \"df3 (causal_data)columns are : \" , df_causal.columns,'\\n------------------------------------------------------------------------------------\\n',\n",
    "    \"df4 (coupon_redempt)columns are : \" , df_coupons_redempt.columns,'\\n------------------------------------------------------------------------------------\\n',\n",
    "    \"df5 (coupon)columns are : \"  , df_coupons.columns,'\\n------------------------------------------------------------------------------------\\n',\n",
    "    \"df6 (hh_demographic)columns are : \" , df_demographics.columns,'\\n------------------------------------------------------------------------------------\\n',\n",
    "    \"df7 (product)columns are : \" , df_product.columns,'\\n------------------------------------------------------------------------------------\\n',\n",
    "    \"df8 (Transaction_data)columns are : \" , df_transactions.columns)\n"
   ]
  },
  {
   "cell_type": "markdown",
   "metadata": {},
   "source": [
    "### Observations\n",
    "\n",
    "Prima Fascie,\n",
    "\n",
    "- First 5 tables belong to Campaigns and Coupons.\n",
    "- Number 7 to Products Information. \n",
    "- Number 6 & 8 contain Customers + Spending + Demographics Information.\n",
    "\n",
    "We will adress these last two files first."
   ]
  },
  {
   "cell_type": "code",
   "execution_count": 18,
   "metadata": {},
   "outputs": [
    {
     "name": "stdout",
     "output_type": "stream",
     "text": [
      "['65+' '45-54' '25-34' '35-44' '19-24' '55-64']\n",
      "['A' 'U' 'B']\n",
      "['35-49K' '50-74K' '25-34K' '75-99K' 'Under 15K' '100-124K' '15-24K'\n",
      " '125-149K' '150-174K' '250K+' '175-199K' '200-249K']\n",
      "['Homeowner' 'Unknown' 'Renter' 'Probable Renter' 'Probable Owner']\n",
      "['2 Adults No Kids' '2 Adults Kids' 'Single Female' 'Unknown'\n",
      " 'Single Male' '1 Adult Kids']\n",
      "['2' '3' '4' '1' '5+']\n",
      "['None/Unknown' '1' '2' '3+']\n",
      "[   1    7    8   13   16   17   18   19   20   22   25   27   31   39\n",
      "   40   42   43   46   48   49   52   55   56   57   58   67   71   74\n",
      "   77   78   80   85   86   97   98  101  104  105  109  110  113  114\n",
      "  117  118  119  121  123  127  131  133  134  136  139  149  155  157\n",
      "  158  159  161  164  165  166  170  178  184  192  193  198  201  208\n",
      "  209  211  212  214  216  218  219  220  221  222  230  232  235  239\n",
      "  242  243  248  249  250  253  256  257  263  264  276  281  282  283\n",
      "  289  290  294  300  301  302  304  306  309  314  317  319  321  324\n",
      "  325  329  332  334  346  350  351  353  354  358  361  362  367  370\n",
      "  371  377  378  381  383  385  386  387  389  390  391  392  395  400\n",
      "  404  409  410  411  412  413  417  418  426  428  432  434  437  438\n",
      "  441  442  443  451  454  456  458  460  462  464  469  473  483  484\n",
      "  485  489  490  491  492  493  510  513  518  523  526  527  534  540\n",
      "  542  543  546  548  553  560  567  569  574  575  576  578  582  583\n",
      "  586  588  593  595  596  597  598  601  605  606  607  608  609  614\n",
      "  621  622  623  624  630  631  644  647  660  661  670  671  672  675\n",
      "  680  682  685  688  690  692  693  695  696  699  706  707  708  712\n",
      "  714  715  716  718  722  725  731  732  733  740  741  742  748  752\n",
      "  753  755  761  762  764  766  768  770  771  779  784  785  786  787\n",
      "  788  790  797  800  802  803  806  808  816  817  823  825  831  840\n",
      "  844  845  852  853  856  857  859  863  864  865  866  867  868  871\n",
      "  875  878  879  882  883  886  888  889  895  898  900  903  906  908\n",
      "  911  914  915  920  922  926  929  932  934  939  941  946  947  949\n",
      "  955  956  960  968  971  973  976  979  981  982  983  986  992  993\n",
      "  996  997 1001 1003 1004 1012 1014 1015 1018 1020 1021 1024 1031 1038\n",
      " 1040 1041 1042 1045 1053 1057 1060 1062 1066 1069 1070 1074 1076 1081\n",
      " 1082 1084 1091 1094 1103 1113 1120 1123 1128 1130 1131 1135 1137 1138\n",
      " 1142 1146 1147 1151 1154 1158 1159 1160 1163 1164 1166 1167 1169 1172\n",
      " 1174 1175 1178 1179 1186 1188 1190 1197 1218 1219 1222 1226 1228 1229\n",
      " 1234 1236 1240 1247 1248 1256 1257 1258 1260 1261 1263 1264 1267 1268\n",
      " 1270 1272 1285 1291 1296 1297 1299 1300 1305 1306 1316 1318 1321 1326\n",
      " 1333 1337 1352 1354 1357 1363 1364 1367 1369 1370 1376 1378 1382 1388\n",
      " 1389 1391 1393 1394 1396 1397 1402 1412 1418 1419 1421 1423 1425 1428\n",
      " 1429 1430 1437 1438 1443 1445 1451 1452 1453 1454 1461 1462 1467 1468\n",
      " 1470 1474 1475 1479 1481 1483 1484 1485 1488 1491 1492 1494 1499 1505\n",
      " 1509 1517 1524 1527 1528 1529 1534 1536 1537 1540 1541 1545 1549 1556\n",
      " 1557 1563 1566 1567 1568 1572 1578 1580 1585 1588 1591 1595 1604 1609\n",
      " 1618 1627 1631 1633 1634 1648 1649 1650 1653 1662 1676 1677 1678 1680\n",
      " 1686 1689 1692 1693 1694 1695 1696 1707 1708 1709 1710 1720 1722 1726\n",
      " 1740 1745 1748 1749 1751 1753 1759 1762 1764 1765 1775 1778 1779 1785\n",
      " 1788 1791 1795 1796 1797 1800 1802 1803 1804 1812 1814 1815 1816 1820\n",
      " 1822 1823 1829 1831 1833 1834 1841 1844 1845 1847 1848 1850 1858 1861\n",
      " 1864 1865 1869 1873 1879 1892 1894 1896 1899 1901 1907 1911 1914 1917\n",
      " 1919 1920 1921 1923 1926 1927 1928 1929 1931 1935 1937 1939 1944 1946\n",
      " 1948 1949 1953 1955 1962 1964 1965 1975 1976 1979 1980 1982 1985 1989\n",
      " 1990 1995 1997 2002 2004 2006 2007 2011 2012 2013 2017 2018 2020 2023\n",
      " 2024 2030 2040 2041 2050 2053 2057 2058 2062 2063 2064 2068 2069 2070\n",
      " 2076 2082 2084 2085 2086 2087 2088 2092 2094 2097 2100 2102 2107 2110\n",
      " 2111 2112 2115 2116 2119 2121 2123 2124 2129 2130 2133 2134 2140 2147\n",
      " 2148 2154 2156 2158 2162 2168 2172 2173 2179 2181 2182 2183 2184 2185\n",
      " 2186 2188 2190 2193 2194 2198 2199 2200 2203 2208 2209 2217 2221 2224\n",
      " 2231 2233 2234 2235 2237 2243 2250 2252 2254 2260 2264 2266 2269 2272\n",
      " 2279 2280 2282 2284 2292 2294 2295 2296 2298 2300 2302 2305 2307 2312\n",
      " 2314 2317 2318 2322 2324 2328 2330 2331 2334 2337 2341 2342 2343 2347\n",
      " 2351 2359 2360 2361 2364 2367 2370 2374 2376 2378 2380 2390 2393 2397\n",
      " 2400 2405 2406 2407 2411 2420 2421 2426 2427 2432 2435 2437 2445 2446\n",
      " 2447 2448 2449 2453 2455 2465 2467 2479 2483 2486 2488 2489 2494 2496\n",
      " 2497 2498 2499]\n"
     ]
    }
   ],
   "source": [
    "# Household demographics Dataframe Inspection\n",
    "\n",
    "for col in df_demographics.columns:\n",
    "    print(df_demographics[col].unique())"
   ]
  },
  {
   "cell_type": "markdown",
   "metadata": {},
   "source": [
    "We may want to change de Marital Status Code to the full meaning, we´r keeping it as text anyway.\n",
    "\n",
    "Source of interpretation: USA Agency for HealthCare Research and Quality\n",
    "https://ushik.ahrq.gov/ViewItemDetails?system=sdo&itemKey=133169000"
   ]
  },
  {
   "cell_type": "code",
   "execution_count": 19,
   "metadata": {},
   "outputs": [],
   "source": [
    "df_demographics['MARITAL_STATUS_CODE'] = df_demographics['MARITAL_STATUS_CODE'].replace(['U','A','B'],[\"Unmarried\",\"CommonLaw\",\"RegisteredPartner\"])\n"
   ]
  },
  {
   "cell_type": "code",
   "execution_count": 20,
   "metadata": {},
   "outputs": [
    {
     "data": {
      "text/html": [
       "<div>\n",
       "<style scoped>\n",
       "    .dataframe tbody tr th:only-of-type {\n",
       "        vertical-align: middle;\n",
       "    }\n",
       "\n",
       "    .dataframe tbody tr th {\n",
       "        vertical-align: top;\n",
       "    }\n",
       "\n",
       "    .dataframe thead th {\n",
       "        text-align: right;\n",
       "    }\n",
       "</style>\n",
       "<table border=\"1\" class=\"dataframe\">\n",
       "  <thead>\n",
       "    <tr style=\"text-align: right;\">\n",
       "      <th></th>\n",
       "      <th>AGE_DESC</th>\n",
       "      <th>MARITAL_STATUS_CODE</th>\n",
       "      <th>INCOME_DESC</th>\n",
       "      <th>HOMEOWNER_DESC</th>\n",
       "      <th>HH_COMP_DESC</th>\n",
       "      <th>HOUSEHOLD_SIZE_DESC</th>\n",
       "      <th>KID_CATEGORY_DESC</th>\n",
       "      <th>household_key</th>\n",
       "    </tr>\n",
       "  </thead>\n",
       "  <tbody>\n",
       "    <tr>\n",
       "      <th>0</th>\n",
       "      <td>65+</td>\n",
       "      <td>CommonLaw</td>\n",
       "      <td>35-49K</td>\n",
       "      <td>Homeowner</td>\n",
       "      <td>2 Adults No Kids</td>\n",
       "      <td>2</td>\n",
       "      <td>None/Unknown</td>\n",
       "      <td>1</td>\n",
       "    </tr>\n",
       "    <tr>\n",
       "      <th>1</th>\n",
       "      <td>45-54</td>\n",
       "      <td>CommonLaw</td>\n",
       "      <td>50-74K</td>\n",
       "      <td>Homeowner</td>\n",
       "      <td>2 Adults No Kids</td>\n",
       "      <td>2</td>\n",
       "      <td>None/Unknown</td>\n",
       "      <td>7</td>\n",
       "    </tr>\n",
       "    <tr>\n",
       "      <th>2</th>\n",
       "      <td>25-34</td>\n",
       "      <td>Unmarried</td>\n",
       "      <td>25-34K</td>\n",
       "      <td>Unknown</td>\n",
       "      <td>2 Adults Kids</td>\n",
       "      <td>3</td>\n",
       "      <td>1</td>\n",
       "      <td>8</td>\n",
       "    </tr>\n",
       "    <tr>\n",
       "      <th>3</th>\n",
       "      <td>25-34</td>\n",
       "      <td>Unmarried</td>\n",
       "      <td>75-99K</td>\n",
       "      <td>Homeowner</td>\n",
       "      <td>2 Adults Kids</td>\n",
       "      <td>4</td>\n",
       "      <td>2</td>\n",
       "      <td>13</td>\n",
       "    </tr>\n",
       "    <tr>\n",
       "      <th>4</th>\n",
       "      <td>45-54</td>\n",
       "      <td>RegisteredPartner</td>\n",
       "      <td>50-74K</td>\n",
       "      <td>Homeowner</td>\n",
       "      <td>Single Female</td>\n",
       "      <td>1</td>\n",
       "      <td>None/Unknown</td>\n",
       "      <td>16</td>\n",
       "    </tr>\n",
       "  </tbody>\n",
       "</table>\n",
       "</div>"
      ],
      "text/plain": [
       "  AGE_DESC MARITAL_STATUS_CODE INCOME_DESC HOMEOWNER_DESC      HH_COMP_DESC  \\\n",
       "0      65+           CommonLaw      35-49K      Homeowner  2 Adults No Kids   \n",
       "1    45-54           CommonLaw      50-74K      Homeowner  2 Adults No Kids   \n",
       "2    25-34           Unmarried      25-34K        Unknown     2 Adults Kids   \n",
       "3    25-34           Unmarried      75-99K      Homeowner     2 Adults Kids   \n",
       "4    45-54   RegisteredPartner      50-74K      Homeowner     Single Female   \n",
       "\n",
       "  HOUSEHOLD_SIZE_DESC KID_CATEGORY_DESC  household_key  \n",
       "0                   2      None/Unknown              1  \n",
       "1                   2      None/Unknown              7  \n",
       "2                   3                 1              8  \n",
       "3                   4                 2             13  \n",
       "4                   1      None/Unknown             16  "
      ]
     },
     "execution_count": 20,
     "metadata": {},
     "output_type": "execute_result"
    }
   ],
   "source": [
    "df_demographics.head(5)"
   ]
  },
  {
   "cell_type": "code",
   "execution_count": 21,
   "metadata": {},
   "outputs": [
    {
     "name": "stdout",
     "output_type": "stream",
     "text": [
      "\u001b[1mEXPLORATORY DATA ANALYSIS :\u001b[0m\n",
      "\n",
      "\u001b[1mShape (rows, columns):\u001b[0m\n",
      "(801, 8) \n",
      "------------------------------------------------------------------------------------\n",
      "\n",
      "\u001b[1mColumns :\u001b[0m\n",
      "Index(['AGE_DESC', 'MARITAL_STATUS_CODE', 'INCOME_DESC', 'HOMEOWNER_DESC',\n",
      "       'HH_COMP_DESC', 'HOUSEHOLD_SIZE_DESC', 'KID_CATEGORY_DESC',\n",
      "       'household_key'],\n",
      "      dtype='object') \n",
      "------------------------------------------------------------------------------------\n",
      "\n",
      "\u001b[1mDatatypes & Missing values:\u001b[0m\n",
      "<class 'pandas.core.frame.DataFrame'>\n",
      "RangeIndex: 801 entries, 0 to 800\n",
      "Data columns (total 8 columns):\n",
      " #   Column               Non-Null Count  Dtype \n",
      "---  ------               --------------  ----- \n",
      " 0   AGE_DESC             801 non-null    object\n",
      " 1   MARITAL_STATUS_CODE  801 non-null    object\n",
      " 2   INCOME_DESC          801 non-null    object\n",
      " 3   HOMEOWNER_DESC       801 non-null    object\n",
      " 4   HH_COMP_DESC         801 non-null    object\n",
      " 5   HOUSEHOLD_SIZE_DESC  801 non-null    object\n",
      " 6   KID_CATEGORY_DESC    801 non-null    object\n",
      " 7   household_key        801 non-null    int64 \n",
      "dtypes: int64(1), object(7)\n",
      "memory usage: 50.2+ KB\n",
      "None \n",
      "------------------------------------------------------------------------------------\n",
      "\n",
      "\u001b[1mUnique Values in AGE_DESC :\u001b[0m 6\n",
      "\u001b[1mUnique Values in MARITAL_STATUS_CODE :\u001b[0m 3\n",
      "\u001b[1mUnique Values in INCOME_DESC :\u001b[0m 12\n",
      "\u001b[1mUnique Values in HOMEOWNER_DESC :\u001b[0m 5\n",
      "\u001b[1mUnique Values in HH_COMP_DESC :\u001b[0m 6\n",
      "\u001b[1mUnique Values in HOUSEHOLD_SIZE_DESC :\u001b[0m 5\n",
      "\u001b[1mUnique Values in KID_CATEGORY_DESC :\u001b[0m 4\n",
      "\u001b[1mUnique Values in household_key :\u001b[0m 801\n",
      "\n",
      "------------------------------------------------------------------------------------\n",
      "\n",
      "\u001b[1mSummarized Statistics :\u001b[0m\n",
      "       AGE_DESC MARITAL_STATUS_CODE INCOME_DESC HOMEOWNER_DESC  \\\n",
      "count       801                 801         801            801   \n",
      "unique        6                   3          12              5   \n",
      "top       45-54           Unmarried      50-74K      Homeowner   \n",
      "freq        288                 344         192            504   \n",
      "mean        NaN                 NaN         NaN            NaN   \n",
      "std         NaN                 NaN         NaN            NaN   \n",
      "min         NaN                 NaN         NaN            NaN   \n",
      "25%         NaN                 NaN         NaN            NaN   \n",
      "50%         NaN                 NaN         NaN            NaN   \n",
      "75%         NaN                 NaN         NaN            NaN   \n",
      "max         NaN                 NaN         NaN            NaN   \n",
      "\n",
      "            HH_COMP_DESC HOUSEHOLD_SIZE_DESC KID_CATEGORY_DESC  household_key  \n",
      "count                801                 801               801     801.000000  \n",
      "unique                 6                   5                 4            NaN  \n",
      "top     2 Adults No Kids                   2      None/Unknown            NaN  \n",
      "freq                 255                 318               558            NaN  \n",
      "mean                 NaN                 NaN               NaN    1235.176030  \n",
      "std                  NaN                 NaN               NaN     736.804647  \n",
      "min                  NaN                 NaN               NaN       1.000000  \n",
      "25%                  NaN                 NaN               NaN     596.000000  \n",
      "50%                  NaN                 NaN               NaN    1218.000000  \n",
      "75%                  NaN                 NaN               NaN    1914.000000  \n",
      "max                  NaN                 NaN               NaN    2499.000000   \n",
      "------------------------------------------------------------------------------------\n",
      "\n",
      "\u001b[1mNumber of duplicate values :\u001b[0m\n",
      "0\n"
     ]
    }
   ],
   "source": [
    "def EDA(df_demographics):\n",
    "    \n",
    "    print('\\033[1m' +'EXPLORATORY DATA ANALYSIS :'+ '\\033[0m\\n')\n",
    "    print('\\033[1m' + 'Shape (rows, columns):' + '\\033[0m')\n",
    "    print(df_demographics.shape, \n",
    "          \n",
    "          '\\n------------------------------------------------------------------------------------\\n')\n",
    "    \n",
    "    print('\\033[1m' + 'Columns :' + '\\033[0m')\n",
    "    print(df_demographics.columns, \n",
    "          \n",
    "          '\\n------------------------------------------------------------------------------------\\n')\n",
    "    \n",
    "    print('\\033[1m' + 'Datatypes & Missing values:' + '\\033[0m')\n",
    "    print(df_demographics.info(), \n",
    "          \n",
    "          '\\n------------------------------------------------------------------------------------\\n')\n",
    "    \n",
    "    for col in df_demographics.columns:\n",
    "        print('\\033[1m' + 'Unique Values in {} :'.format(col) + '\\033[0m',len(df_demographics[col].unique()))\n",
    "\n",
    "    print('\\n------------------------------------------------------------------------------------\\n')\n",
    "    \n",
    "    print('\\033[1m' + 'Summarized Statistics :' + '\\033[0m')\n",
    "    print(df_demographics.describe(include='all'), \n",
    "          \n",
    "          '\\n------------------------------------------------------------------------------------\\n')\n",
    "    \n",
    "\n",
    "    \n",
    "    print('\\033[1m' + 'Number of duplicate values :' + '\\033[0m')\n",
    "    print(df_demographics.duplicated().sum())\n",
    "          \n",
    "EDA(df_demographics)\n"
   ]
  },
  {
   "cell_type": "code",
   "execution_count": 22,
   "metadata": {},
   "outputs": [
    {
     "data": {
      "text/html": [
       "<div>\n",
       "<style scoped>\n",
       "    .dataframe tbody tr th:only-of-type {\n",
       "        vertical-align: middle;\n",
       "    }\n",
       "\n",
       "    .dataframe tbody tr th {\n",
       "        vertical-align: top;\n",
       "    }\n",
       "\n",
       "    .dataframe thead th {\n",
       "        text-align: right;\n",
       "    }\n",
       "</style>\n",
       "<table border=\"1\" class=\"dataframe\">\n",
       "  <thead>\n",
       "    <tr style=\"text-align: right;\">\n",
       "      <th></th>\n",
       "      <th>household_key</th>\n",
       "      <th>BASKET_ID</th>\n",
       "      <th>DAY</th>\n",
       "      <th>PRODUCT_ID</th>\n",
       "      <th>QUANTITY</th>\n",
       "      <th>SALES_VALUE</th>\n",
       "      <th>STORE_ID</th>\n",
       "      <th>RETAIL_DISC</th>\n",
       "      <th>TRANS_TIME</th>\n",
       "      <th>WEEK_NO</th>\n",
       "      <th>COUPON_DISC</th>\n",
       "      <th>COUPON_MATCH_DISC</th>\n",
       "    </tr>\n",
       "  </thead>\n",
       "  <tbody>\n",
       "    <tr>\n",
       "      <th>0</th>\n",
       "      <td>2375</td>\n",
       "      <td>26984851472</td>\n",
       "      <td>1</td>\n",
       "      <td>1004906</td>\n",
       "      <td>1</td>\n",
       "      <td>1.39</td>\n",
       "      <td>364</td>\n",
       "      <td>-0.60</td>\n",
       "      <td>1631</td>\n",
       "      <td>1</td>\n",
       "      <td>0.0</td>\n",
       "      <td>0.0</td>\n",
       "    </tr>\n",
       "    <tr>\n",
       "      <th>1</th>\n",
       "      <td>2375</td>\n",
       "      <td>26984851472</td>\n",
       "      <td>1</td>\n",
       "      <td>1033142</td>\n",
       "      <td>1</td>\n",
       "      <td>0.82</td>\n",
       "      <td>364</td>\n",
       "      <td>0.00</td>\n",
       "      <td>1631</td>\n",
       "      <td>1</td>\n",
       "      <td>0.0</td>\n",
       "      <td>0.0</td>\n",
       "    </tr>\n",
       "    <tr>\n",
       "      <th>2</th>\n",
       "      <td>2375</td>\n",
       "      <td>26984851472</td>\n",
       "      <td>1</td>\n",
       "      <td>1036325</td>\n",
       "      <td>1</td>\n",
       "      <td>0.99</td>\n",
       "      <td>364</td>\n",
       "      <td>-0.30</td>\n",
       "      <td>1631</td>\n",
       "      <td>1</td>\n",
       "      <td>0.0</td>\n",
       "      <td>0.0</td>\n",
       "    </tr>\n",
       "    <tr>\n",
       "      <th>3</th>\n",
       "      <td>2375</td>\n",
       "      <td>26984851472</td>\n",
       "      <td>1</td>\n",
       "      <td>1082185</td>\n",
       "      <td>1</td>\n",
       "      <td>1.21</td>\n",
       "      <td>364</td>\n",
       "      <td>0.00</td>\n",
       "      <td>1631</td>\n",
       "      <td>1</td>\n",
       "      <td>0.0</td>\n",
       "      <td>0.0</td>\n",
       "    </tr>\n",
       "    <tr>\n",
       "      <th>4</th>\n",
       "      <td>2375</td>\n",
       "      <td>26984851472</td>\n",
       "      <td>1</td>\n",
       "      <td>8160430</td>\n",
       "      <td>1</td>\n",
       "      <td>1.50</td>\n",
       "      <td>364</td>\n",
       "      <td>-0.39</td>\n",
       "      <td>1631</td>\n",
       "      <td>1</td>\n",
       "      <td>0.0</td>\n",
       "      <td>0.0</td>\n",
       "    </tr>\n",
       "  </tbody>\n",
       "</table>\n",
       "</div>"
      ],
      "text/plain": [
       "   household_key    BASKET_ID  DAY  PRODUCT_ID  QUANTITY  SALES_VALUE  \\\n",
       "0           2375  26984851472    1     1004906         1         1.39   \n",
       "1           2375  26984851472    1     1033142         1         0.82   \n",
       "2           2375  26984851472    1     1036325         1         0.99   \n",
       "3           2375  26984851472    1     1082185         1         1.21   \n",
       "4           2375  26984851472    1     8160430         1         1.50   \n",
       "\n",
       "   STORE_ID  RETAIL_DISC  TRANS_TIME  WEEK_NO  COUPON_DISC  COUPON_MATCH_DISC  \n",
       "0       364        -0.60        1631        1          0.0                0.0  \n",
       "1       364         0.00        1631        1          0.0                0.0  \n",
       "2       364        -0.30        1631        1          0.0                0.0  \n",
       "3       364         0.00        1631        1          0.0                0.0  \n",
       "4       364        -0.39        1631        1          0.0                0.0  "
      ]
     },
     "execution_count": 22,
     "metadata": {},
     "output_type": "execute_result"
    }
   ],
   "source": [
    "# Transactions Dataframe Inspection\n",
    "\n",
    "df_transactions.head(5)"
   ]
  },
  {
   "cell_type": "code",
   "execution_count": 23,
   "metadata": {},
   "outputs": [
    {
     "name": "stdout",
     "output_type": "stream",
     "text": [
      "\u001b[1mEXPLORATORY DATA ANALYSIS :\u001b[0m\n",
      "\n",
      "\u001b[1mShape (rows, columns):\u001b[0m\n",
      "(2595732, 12) \n",
      "------------------------------------------------------------------------------------\n",
      "\n",
      "\u001b[1mColumns :\u001b[0m\n",
      "Index(['household_key', 'BASKET_ID', 'DAY', 'PRODUCT_ID', 'QUANTITY',\n",
      "       'SALES_VALUE', 'STORE_ID', 'RETAIL_DISC', 'TRANS_TIME', 'WEEK_NO',\n",
      "       'COUPON_DISC', 'COUPON_MATCH_DISC'],\n",
      "      dtype='object') \n",
      "------------------------------------------------------------------------------------\n",
      "\n",
      "\u001b[1mDatatypes & Missing values:\u001b[0m\n",
      "<class 'pandas.core.frame.DataFrame'>\n",
      "RangeIndex: 2595732 entries, 0 to 2595731\n",
      "Data columns (total 12 columns):\n",
      " #   Column             Dtype  \n",
      "---  ------             -----  \n",
      " 0   household_key      int64  \n",
      " 1   BASKET_ID          int64  \n",
      " 2   DAY                int64  \n",
      " 3   PRODUCT_ID         int64  \n",
      " 4   QUANTITY           int64  \n",
      " 5   SALES_VALUE        float64\n",
      " 6   STORE_ID           int64  \n",
      " 7   RETAIL_DISC        float64\n",
      " 8   TRANS_TIME         int64  \n",
      " 9   WEEK_NO            int64  \n",
      " 10  COUPON_DISC        float64\n",
      " 11  COUPON_MATCH_DISC  float64\n",
      "dtypes: float64(4), int64(8)\n",
      "memory usage: 237.6 MB\n",
      "None \n",
      "------------------------------------------------------------------------------------\n",
      "\n",
      "\u001b[1mUnique Values in household_key :\u001b[0m 2500\n",
      "\u001b[1mUnique Values in BASKET_ID :\u001b[0m 276484\n",
      "\u001b[1mUnique Values in DAY :\u001b[0m 711\n",
      "\u001b[1mUnique Values in PRODUCT_ID :\u001b[0m 92339\n",
      "\u001b[1mUnique Values in QUANTITY :\u001b[0m 11746\n",
      "\u001b[1mUnique Values in SALES_VALUE :\u001b[0m 5502\n",
      "\u001b[1mUnique Values in STORE_ID :\u001b[0m 582\n",
      "\u001b[1mUnique Values in RETAIL_DISC :\u001b[0m 2414\n",
      "\u001b[1mUnique Values in TRANS_TIME :\u001b[0m 1440\n",
      "\u001b[1mUnique Values in WEEK_NO :\u001b[0m 102\n",
      "\u001b[1mUnique Values in COUPON_DISC :\u001b[0m 415\n",
      "\u001b[1mUnique Values in COUPON_MATCH_DISC :\u001b[0m 80\n",
      "\n",
      "------------------------------------------------------------------------------------\n",
      "\n",
      "\u001b[1mSummarized Statistics :\u001b[0m\n",
      "       household_key     BASKET_ID           DAY    PRODUCT_ID      QUANTITY  \\\n",
      "count   2.595732e+06  2.595732e+06  2.595732e+06  2.595732e+06  2.595732e+06   \n",
      "mean    1.271953e+03  3.402620e+10  3.887562e+02  2.891435e+06  1.004286e+02   \n",
      "std     7.260660e+02  4.711649e+09  1.897210e+02  3.837404e+06  1.153436e+03   \n",
      "min     1.000000e+00  2.698485e+10  1.000000e+00  2.567100e+04  0.000000e+00   \n",
      "25%     6.560000e+02  3.040805e+10  2.290000e+02  9.174590e+05  1.000000e+00   \n",
      "50%     1.272000e+03  3.276081e+10  3.900000e+02  1.028816e+06  1.000000e+00   \n",
      "75%     1.913000e+03  4.012685e+10  5.530000e+02  1.133018e+06  1.000000e+00   \n",
      "max     2.500000e+03  4.230536e+10  7.110000e+02  1.831630e+07  8.963800e+04   \n",
      "\n",
      "        SALES_VALUE      STORE_ID   RETAIL_DISC    TRANS_TIME       WEEK_NO  \\\n",
      "count  2.595732e+06  2.595732e+06  2.595732e+06  2.595732e+06  2.595732e+06   \n",
      "mean   3.104120e+00  3.142673e+03 -5.387054e-01  1.561586e+03  5.622150e+01   \n",
      "std    4.182274e+00  8.937113e+03  1.249191e+00  3.998378e+02  2.710223e+01   \n",
      "min    0.000000e+00  1.000000e+00 -1.800000e+02  0.000000e+00  1.000000e+00   \n",
      "25%    1.290000e+00  3.300000e+02 -6.900000e-01  1.308000e+03  3.300000e+01   \n",
      "50%    2.000000e+00  3.720000e+02 -1.000000e-02  1.613000e+03  5.600000e+01   \n",
      "75%    3.490000e+00  4.220000e+02  0.000000e+00  1.843000e+03  8.000000e+01   \n",
      "max    8.400000e+02  3.428000e+04  3.990000e+00  2.359000e+03  1.020000e+02   \n",
      "\n",
      "        COUPON_DISC  COUPON_MATCH_DISC  \n",
      "count  2.595732e+06       2.595732e+06  \n",
      "mean  -1.641600e-02      -2.918564e-03  \n",
      "std    2.168410e-01       3.969004e-02  \n",
      "min   -5.593000e+01      -7.700000e+00  \n",
      "25%    0.000000e+00       0.000000e+00  \n",
      "50%    0.000000e+00       0.000000e+00  \n",
      "75%    0.000000e+00       0.000000e+00  \n",
      "max    0.000000e+00       0.000000e+00   \n",
      "------------------------------------------------------------------------------------\n",
      "\n",
      "\u001b[1mNumber of duplicate values :\u001b[0m\n",
      "0\n"
     ]
    }
   ],
   "source": [
    "def EDA(df_transactions):\n",
    "    \n",
    "    print('\\033[1m' +'EXPLORATORY DATA ANALYSIS :'+ '\\033[0m\\n')\n",
    "    print('\\033[1m' + 'Shape (rows, columns):' + '\\033[0m')\n",
    "    print(df_transactions.shape, \n",
    "          \n",
    "          '\\n------------------------------------------------------------------------------------\\n')\n",
    "    \n",
    "    print('\\033[1m' + 'Columns :' + '\\033[0m')\n",
    "    print(df_transactions.columns, \n",
    "          \n",
    "          '\\n------------------------------------------------------------------------------------\\n')\n",
    "    \n",
    "    print('\\033[1m' + 'Datatypes & Missing values:' + '\\033[0m')\n",
    "    print(df_transactions.info(), \n",
    "          \n",
    "          '\\n------------------------------------------------------------------------------------\\n')\n",
    "    \n",
    "    for col in df_transactions.columns:\n",
    "        print('\\033[1m' + 'Unique Values in {} :'.format(col) + '\\033[0m',len(df_transactions[col].unique()))\n",
    "\n",
    "    print('\\n------------------------------------------------------------------------------------\\n')\n",
    "    \n",
    "    print('\\033[1m' + 'Summarized Statistics :' + '\\033[0m')\n",
    "    print(df_transactions.describe(include='all'), \n",
    "          \n",
    "          '\\n------------------------------------------------------------------------------------\\n')\n",
    "    \n",
    "\n",
    "    \n",
    "    print('\\033[1m' + 'Number of duplicate values :' + '\\033[0m')\n",
    "    print(df_transactions.duplicated().sum())\n",
    "          \n",
    "EDA(df_transactions)"
   ]
  },
  {
   "cell_type": "markdown",
   "metadata": {},
   "source": [
    "Good news. We can expect cleansed and ordered data as well for the next files. We will nontheless check later. Lets start working these first files."
   ]
  },
  {
   "cell_type": "markdown",
   "metadata": {},
   "source": [
    "# Exploratory Data Analysis (EDA) - Univariate"
   ]
  },
  {
   "cell_type": "markdown",
   "metadata": {},
   "source": [
    "## Household Demographics"
   ]
  },
  {
   "cell_type": "code",
   "execution_count": 24,
   "metadata": {},
   "outputs": [],
   "source": [
    "def pie_categorical(df_demographics):\n",
    "\n",
    "    #function to plot the histogram of categorical variables in pie graph\n",
    "    features = df_demographics.columns\n",
    "\n",
    "    #plot pie charts of categorical variables\n",
    "    fig_pie_cat = plt.figure(figsize=(15,15))\n",
    "    count = 1\n",
    "\n",
    "    #calculate dynamic numbers of subplot rows and columns\n",
    "    cols = int(np.ceil(np.sqrt(len(features))))\n",
    "    rows = int(np.ceil(len(features)/cols))\n",
    "    for i in features:\n",
    "        ax = fig_pie_cat.add_subplot(rows,cols,count)\n",
    "        df_demographics[i].value_counts().plot(kind=\"pie\",autopct=\"%.1f%%\",ax=ax)\n",
    "        plt.ylabel(\"\")\n",
    "        plt.title(i,fontweight=\"bold\",fontsize=8)\n",
    "        count += 1\n",
    "\n",
    "def hist_numeric(df_demographics):\n",
    "\n",
    "    #function to plot the histogram of numeric variables\n",
    "    features = df_demographics.columns\n",
    "    fig_hists = plt.figure(figsize=(15,15))\n",
    "    fig_hists.subplots_adjust(hspace=0.5,wspace=0.5)\n",
    "    count = 1\n",
    "\n",
    "    #calculate dynamic numbers of subplot rows and columns\n",
    "    cols = int(np.ceil(np.sqrt(len(features))))\n",
    "    rows = int(np.ceil(len(features)/cols))\n",
    "    for i in features:\n",
    "        ax = fig_hists.add_subplot(rows,cols,count)\n",
    "        df_demographics[i].plot(kind=\"hist\",alpha=.5,bins=25,edgecolor=\"navy\",legend=False,ax=ax)\n",
    "        ax.set_xlabel(\"\")\n",
    "        ax.set_title(i,fontweight=\"bold\",fontsize=10)\n",
    "        count += 1\n",
    "\n",
    " "
   ]
  },
  {
   "cell_type": "code",
   "execution_count": 25,
   "metadata": {},
   "outputs": [
    {
     "data": {
      "image/png": "[encoded data removed]",
      "text/plain": [
       "<Figure size 1080x1080 with 7 Axes>"
      ]
     },
     "metadata": {},
     "output_type": "display_data"
    }
   ],
   "source": [
    "pie_categorical(df_demographics.drop(\"household_key\",axis=1))"
   ]
  },
  {
   "cell_type": "markdown",
   "metadata": {},
   "source": [
    "### Findings:\n",
    "\n",
    "- Children: Majority of the customers does not have a child (~70%)\n",
    "- Household Size: Majority of Households made up of 1 or 2 persons (~70%)\n",
    "- Age: Majority of the customers age in between 35-54 (~60%)\n",
    "- Income: Almost half of the population have a yearly salary between $35-74K\n",
    "- House Ownership: Majority of the customers own a house (63%)\n"
   ]
  },
  {
   "cell_type": "markdown",
   "metadata": {},
   "source": [
    "## Transactions\n",
    "\n",
    "Grouping by Houshold to pull some numbers"
   ]
  },
  {
   "cell_type": "code",
   "execution_count": 26,
   "metadata": {},
   "outputs": [],
   "source": [
    "grouped_sum = df_transactions.groupby(\"household_key\").sum()"
   ]
  },
  {
   "cell_type": "markdown",
   "metadata": {},
   "source": [
    "### What is the Average total spent by a household within these two years?"
   ]
  },
  {
   "cell_type": "code",
   "execution_count": 27,
   "metadata": {},
   "outputs": [
    {
     "name": "stdout",
     "output_type": "stream",
     "text": [
      "The average Total Spent by Household was: $ 3223.0\n"
     ]
    }
   ],
   "source": [
    "\n",
    "avg_purchase = round(df_transactions.SALES_VALUE.sum()/len(grouped_sum),1)\n",
    "print(\"The average Total Spent by Household was: $\", avg_purchase)"
   ]
  },
  {
   "cell_type": "markdown",
   "metadata": {},
   "source": [
    "### What is the Average total number of products purchased by a household within two years?"
   ]
  },
  {
   "cell_type": "code",
   "execution_count": 28,
   "metadata": {},
   "outputs": [
    {
     "name": "stdout",
     "output_type": "stream",
     "text": [
      "The Average total number of products purchased by a household is:  104274.2\n"
     ]
    }
   ],
   "source": [
    "avg_tot_prod = round(grouped_sum[\"QUANTITY\"].mean(),1)\n",
    "print(\"The Average total number of products purchased by a household is: \" , avg_tot_prod)"
   ]
  },
  {
   "cell_type": "markdown",
   "metadata": {},
   "source": [
    "### What is the average total number of unique products purchased by a household within two years?"
   ]
  },
  {
   "cell_type": "code",
   "execution_count": 29,
   "metadata": {},
   "outputs": [
    {
     "name": "stdout",
     "output_type": "stream",
     "text": [
      "The Average total number of unique products purchased by a household is:  560.6\n"
     ]
    }
   ],
   "source": [
    "avg_uniq_prod = round(len(df_transactions.groupby([\"household_key\",\"PRODUCT_ID\"]).sum()[\"QUANTITY\"])/len(grouped_sum),1)\n",
    "print(\"The Average total number of unique products purchased by a household is: \" , avg_uniq_prod)"
   ]
  },
  {
   "cell_type": "markdown",
   "metadata": {},
   "source": [
    "### What is the Average number of store visits per household within two years?"
   ]
  },
  {
   "cell_type": "code",
   "execution_count": 30,
   "metadata": {},
   "outputs": [
    {
     "name": "stdout",
     "output_type": "stream",
     "text": [
      "The Average number of store visits per household is :  90.2\n"
     ]
    }
   ],
   "source": [
    "avg_days_visited = round(len(df_transactions.groupby([\"household_key\",\"DAY\"]).count())/len(grouped_sum),1)\n",
    "print(\"The Average number of store visits per household is : \" , avg_days_visited)"
   ]
  },
  {
   "cell_type": "markdown",
   "metadata": {},
   "source": [
    "Observation:\n",
    "\n",
    "- All these measures (besides serving monthly and anually reports) are candidates for building KPIs with real-time stream/batch data flowing to dashboards.\n",
    "- We will make these same questions with correlation to Time and other variables to pull more insights in the following sections. "
   ]
  },
  {
   "cell_type": "markdown",
   "metadata": {},
   "source": [
    "### Top Stores and Customers \n",
    "\n",
    "How are the stores performing? Which are our most spending customers?"
   ]
  },
  {
   "cell_type": "code",
   "execution_count": 31,
   "metadata": {},
   "outputs": [
    {
     "data": {
      "image/png": "[encoded data removed]",
      "text/plain": [
       "<Figure size 1008x576 with 1 Axes>"
      ]
     },
     "metadata": {
      "needs_background": "light"
     },
     "output_type": "display_data"
    }
   ],
   "source": [
    "sales_per_store = df_transactions.groupby(\"STORE_ID\").sum()[\"SALES_VALUE\"].sort_values(ascending=False)\n",
    "sales_per_store = pd.DataFrame(list(zip(sales_per_store.index,sales_per_store)),columns=[\"Store ID\",\"Total Sales (USD)\"])\n",
    "fig_store = plt.figure(figsize=(14,8))\n",
    "sns.barplot(y=\"Store ID\",x=\"Total Sales (USD)\",data = sales_per_store[:20],order=sales_per_store[:20][\"Store ID\"],orient=\"h\")\n",
    "plt.title('Top 20 Stores based on Sale Amount', fontsize=17)\n",
    "plt.xlabel('Total Sales (USD)', fontsize=14)\n",
    "plt.ylabel('Store ID', fontsize=14)\n",
    "plt.show()"
   ]
  },
  {
   "cell_type": "markdown",
   "metadata": {},
   "source": [
    "Top 20 customers based on total purchase amount (USD)"
   ]
  },
  {
   "cell_type": "code",
   "execution_count": 32,
   "metadata": {},
   "outputs": [
    {
     "data": {
      "image/png": "[encoded data removed]",
      "text/plain": [
       "<Figure size 1152x720 with 1 Axes>"
      ]
     },
     "metadata": {
      "needs_background": "light"
     },
     "output_type": "display_data"
    }
   ],
   "source": [
    "purc_per_cust = df_transactions.groupby(\"household_key\").sum()[\"SALES_VALUE\"].sort_values(ascending=False)\n",
    "purc_per_cust = pd.DataFrame(list(zip(purc_per_cust.index,purc_per_cust)),columns=[\"household_key\",\"Total Purchase (USD)\"])\n",
    "fig_store = plt.figure(figsize=(16,10))\n",
    "sns.barplot(y=\"household_key\",x=\"Total Purchase (USD)\",data = purc_per_cust[:20],order=purc_per_cust[:20][\"household_key\"],orient=\"h\")\n",
    "plt.title('Top 20 Customers based on Purchase Number', fontsize=17)\n",
    "plt.xlabel('Total Purchases (USD)', fontsize=14)\n",
    "plt.ylabel('Household Key', fontsize=14)\n",
    "plt.show()"
   ]
  },
  {
   "cell_type": "markdown",
   "metadata": {},
   "source": [
    "This information could help us to:\n",
    "\n",
    "- Identify top stores, and with the help of segmentation (location, size), identify as well further variables of top performance (employee motivation,store design), applying thus this elements to other stores to increment profit.\n",
    "- Identify top customer profile, to\n",
    "    a) attract more potential customers with these profiles.\n",
    "    b) keep up business model elements that attract these profiles.\n",
    "- Reward Top Stores and Top Customers."
   ]
  },
  {
   "cell_type": "markdown",
   "metadata": {},
   "source": [
    "## Campaign Types & Duration\n",
    "\n",
    "Campaign description data is a look up table, containing the start and the end days of each campaign (30 campaigns in total). Also it gives which campaign belongs to what category (Type A, B and C). For the time being, we ignore what Types category means. "
   ]
  },
  {
   "cell_type": "markdown",
   "metadata": {},
   "source": [
    "Dataset Quality Check"
   ]
  },
  {
   "cell_type": "code",
   "execution_count": 33,
   "metadata": {},
   "outputs": [
    {
     "name": "stdout",
     "output_type": "stream",
     "text": [
      "\u001b[1mEXPLORATORY DATA ANALYSIS :\u001b[0m\n",
      "\n",
      "\u001b[1mShape (rows, columns):\u001b[0m\n",
      "(30, 4) \n",
      "------------------------------------------------------------------------------------\n",
      "\n",
      "\u001b[1mColumns :\u001b[0m\n",
      "Index(['DESCRIPTION', 'CAMPAIGN', 'START_DAY', 'END_DAY'], dtype='object') \n",
      "------------------------------------------------------------------------------------\n",
      "\n",
      "\u001b[1mDatatypes & Missing values:\u001b[0m\n",
      "<class 'pandas.core.frame.DataFrame'>\n",
      "RangeIndex: 30 entries, 0 to 29\n",
      "Data columns (total 4 columns):\n",
      " #   Column       Non-Null Count  Dtype \n",
      "---  ------       --------------  ----- \n",
      " 0   DESCRIPTION  30 non-null     object\n",
      " 1   CAMPAIGN     30 non-null     int64 \n",
      " 2   START_DAY    30 non-null     int64 \n",
      " 3   END_DAY      30 non-null     int64 \n",
      "dtypes: int64(3), object(1)\n",
      "memory usage: 1.1+ KB\n",
      "None \n",
      "------------------------------------------------------------------------------------\n",
      "\n",
      "\u001b[1mUnique Values in DESCRIPTION :\u001b[0m 3\n",
      "\u001b[1mUnique Values in CAMPAIGN :\u001b[0m 30\n",
      "\u001b[1mUnique Values in START_DAY :\u001b[0m 27\n",
      "\u001b[1mUnique Values in END_DAY :\u001b[0m 28\n",
      "\n",
      "------------------------------------------------------------------------------------\n",
      "\n",
      "\u001b[1mSummarized Statistics :\u001b[0m\n",
      "       DESCRIPTION   CAMPAIGN   START_DAY     END_DAY\n",
      "count           30  30.000000   30.000000   30.000000\n",
      "unique           3        NaN         NaN         NaN\n",
      "top          TypeB        NaN         NaN         NaN\n",
      "freq            19        NaN         NaN         NaN\n",
      "mean           NaN  15.500000  463.866667  510.466667\n",
      "std            NaN   8.803408  134.488490  137.730555\n",
      "min            NaN   1.000000  224.000000  264.000000\n",
      "25%            NaN   8.250000  360.000000  405.750000\n",
      "50%            NaN  15.500000  470.000000  502.000000\n",
      "75%            NaN  22.750000  584.000000  640.250000\n",
      "max            NaN  30.000000  659.000000  719.000000 \n",
      "------------------------------------------------------------------------------------\n",
      "\n",
      "\u001b[1mNumber of duplicate values :\u001b[0m\n",
      "0\n"
     ]
    }
   ],
   "source": [
    "def EDA(df_campaing_dates):\n",
    "    \n",
    "    print('\\033[1m' +'EXPLORATORY DATA ANALYSIS :'+ '\\033[0m\\n')\n",
    "    print('\\033[1m' + 'Shape (rows, columns):' + '\\033[0m')\n",
    "    print(df_campaing_dates.shape, \n",
    "          \n",
    "          '\\n------------------------------------------------------------------------------------\\n')\n",
    "    \n",
    "    print('\\033[1m' + 'Columns :' + '\\033[0m')\n",
    "    print(df_campaing_dates.columns, \n",
    "          \n",
    "          '\\n------------------------------------------------------------------------------------\\n')\n",
    "    \n",
    "    print('\\033[1m' + 'Datatypes & Missing values:' + '\\033[0m')\n",
    "    print(df_campaing_dates.info(), \n",
    "          \n",
    "          '\\n------------------------------------------------------------------------------------\\n')\n",
    "    \n",
    "    for col in df_campaing_dates.columns:\n",
    "        print('\\033[1m' + 'Unique Values in {} :'.format(col) + '\\033[0m',len(df_campaing_dates[col].unique()))\n",
    "\n",
    "    print('\\n------------------------------------------------------------------------------------\\n')\n",
    "    \n",
    "    print('\\033[1m' + 'Summarized Statistics :' + '\\033[0m')\n",
    "    print(df_campaing_dates.describe(include='all'), \n",
    "          \n",
    "          '\\n------------------------------------------------------------------------------------\\n')\n",
    "    \n",
    "\n",
    "    \n",
    "    print('\\033[1m' + 'Number of duplicate values :' + '\\033[0m')\n",
    "    print(df_campaing_dates.duplicated().sum())\n",
    "          \n",
    "EDA(df_campaing_dates)"
   ]
  },
  {
   "cell_type": "code",
   "execution_count": 34,
   "metadata": {},
   "outputs": [
    {
     "data": {
      "text/html": [
       "<div>\n",
       "<style scoped>\n",
       "    .dataframe tbody tr th:only-of-type {\n",
       "        vertical-align: middle;\n",
       "    }\n",
       "\n",
       "    .dataframe tbody tr th {\n",
       "        vertical-align: top;\n",
       "    }\n",
       "\n",
       "    .dataframe thead th {\n",
       "        text-align: right;\n",
       "    }\n",
       "</style>\n",
       "<table border=\"1\" class=\"dataframe\">\n",
       "  <thead>\n",
       "    <tr style=\"text-align: right;\">\n",
       "      <th></th>\n",
       "      <th>DESCRIPTION</th>\n",
       "      <th>CAMPAIGN</th>\n",
       "      <th>START_DAY</th>\n",
       "      <th>END_DAY</th>\n",
       "    </tr>\n",
       "  </thead>\n",
       "  <tbody>\n",
       "    <tr>\n",
       "      <th>0</th>\n",
       "      <td>TypeB</td>\n",
       "      <td>24</td>\n",
       "      <td>659</td>\n",
       "      <td>719</td>\n",
       "    </tr>\n",
       "    <tr>\n",
       "      <th>1</th>\n",
       "      <td>TypeC</td>\n",
       "      <td>15</td>\n",
       "      <td>547</td>\n",
       "      <td>708</td>\n",
       "    </tr>\n",
       "    <tr>\n",
       "      <th>2</th>\n",
       "      <td>TypeB</td>\n",
       "      <td>25</td>\n",
       "      <td>659</td>\n",
       "      <td>691</td>\n",
       "    </tr>\n",
       "    <tr>\n",
       "      <th>3</th>\n",
       "      <td>TypeC</td>\n",
       "      <td>20</td>\n",
       "      <td>615</td>\n",
       "      <td>685</td>\n",
       "    </tr>\n",
       "    <tr>\n",
       "      <th>4</th>\n",
       "      <td>TypeB</td>\n",
       "      <td>23</td>\n",
       "      <td>646</td>\n",
       "      <td>684</td>\n",
       "    </tr>\n",
       "  </tbody>\n",
       "</table>\n",
       "</div>"
      ],
      "text/plain": [
       "  DESCRIPTION  CAMPAIGN  START_DAY  END_DAY\n",
       "0       TypeB        24        659      719\n",
       "1       TypeC        15        547      708\n",
       "2       TypeB        25        659      691\n",
       "3       TypeC        20        615      685\n",
       "4       TypeB        23        646      684"
      ]
     },
     "execution_count": 34,
     "metadata": {},
     "output_type": "execute_result"
    }
   ],
   "source": [
    "df_campaing_dates.head(5)"
   ]
  },
  {
   "cell_type": "markdown",
   "metadata": {},
   "source": [
    "Each Campaign Duration\n",
    "\n",
    "Let's calculate and visualise how long each campaign lasted within two years period"
   ]
  },
  {
   "cell_type": "code",
   "execution_count": 35,
   "metadata": {},
   "outputs": [
    {
     "data": {
      "image/png": "[encoded data removed]",
      "text/plain": [
       "<Figure size 1296x864 with 1 Axes>"
      ]
     },
     "metadata": {
      "needs_background": "light"
     },
     "output_type": "display_data"
    }
   ],
   "source": [
    "df_campaing_dates[\"DUR\"] = df_campaing_dates.END_DAY-df_campaing_dates.START_DAY\n",
    "fig = plt.figure(figsize=(18,12))\n",
    "sns.barplot(x=\"CAMPAIGN\",y=\"DUR\",data=df_campaing_dates,orient=\"v\",\n",
    "            order=df_campaing_dates.sort_values(by=\"CAMPAIGN\").CAMPAIGN.values)\n",
    "plt.title('Duration of each campaign', fontsize=17)\n",
    "plt.xlabel('Campaign Number', fontsize=14)\n",
    "plt.ylabel('Duration', fontsize=14)\n",
    "plt.show()"
   ]
  },
  {
   "cell_type": "markdown",
   "metadata": {},
   "source": [
    "Campaign No:15 lasts the longest with a staggering 160 days figure, where other campaigns are fairly close to each other ranging from 30 to 70 days Average campaign duration is 37 days (median)"
   ]
  },
  {
   "cell_type": "markdown",
   "metadata": {},
   "source": [
    "## Campaigns & Households\n",
    "\n",
    "Campaign dataset contains identifying information for the marketing campaigns each household participated in."
   ]
  },
  {
   "cell_type": "markdown",
   "metadata": {},
   "source": [
    "Dataset Quality Check"
   ]
  },
  {
   "cell_type": "code",
   "execution_count": 36,
   "metadata": {},
   "outputs": [
    {
     "name": "stdout",
     "output_type": "stream",
     "text": [
      "\u001b[1mEXPLORATORY DATA ANALYSIS :\u001b[0m\n",
      "\n",
      "\u001b[1mShape (rows, columns):\u001b[0m\n",
      "(7208, 3) \n",
      "------------------------------------------------------------------------------------\n",
      "\n",
      "\u001b[1mColumns :\u001b[0m\n",
      "Index(['DESCRIPTION', 'household_key', 'CAMPAIGN'], dtype='object') \n",
      "------------------------------------------------------------------------------------\n",
      "\n",
      "\u001b[1mDatatypes & Missing values:\u001b[0m\n",
      "<class 'pandas.core.frame.DataFrame'>\n",
      "RangeIndex: 7208 entries, 0 to 7207\n",
      "Data columns (total 3 columns):\n",
      " #   Column         Non-Null Count  Dtype \n",
      "---  ------         --------------  ----- \n",
      " 0   DESCRIPTION    7208 non-null   object\n",
      " 1   household_key  7208 non-null   int64 \n",
      " 2   CAMPAIGN       7208 non-null   int64 \n",
      "dtypes: int64(2), object(1)\n",
      "memory usage: 169.1+ KB\n",
      "None \n",
      "------------------------------------------------------------------------------------\n",
      "\n",
      "\u001b[1mUnique Values in DESCRIPTION :\u001b[0m 3\n",
      "\u001b[1mUnique Values in household_key :\u001b[0m 1584\n",
      "\u001b[1mUnique Values in CAMPAIGN :\u001b[0m 30\n",
      "\n",
      "------------------------------------------------------------------------------------\n",
      "\n",
      "\u001b[1mSummarized Statistics :\u001b[0m\n",
      "       DESCRIPTION  household_key     CAMPAIGN\n",
      "count         7208    7208.000000  7208.000000\n",
      "unique           3            NaN          NaN\n",
      "top          TypeA            NaN          NaN\n",
      "freq          3979            NaN          NaN\n",
      "mean           NaN    1268.696726    15.659545\n",
      "std            NaN     731.936391     6.949705\n",
      "min            NaN       1.000000     1.000000\n",
      "25%            NaN     644.000000     9.000000\n",
      "50%            NaN    1263.000000    14.000000\n",
      "75%            NaN    1924.000000    20.000000\n",
      "max            NaN    2500.000000    30.000000 \n",
      "------------------------------------------------------------------------------------\n",
      "\n",
      "\u001b[1mNumber of duplicate values :\u001b[0m\n",
      "0\n"
     ]
    }
   ],
   "source": [
    "def EDA(df_campaign_hh):\n",
    "    \n",
    "    print('\\033[1m' +'EXPLORATORY DATA ANALYSIS :'+ '\\033[0m\\n')\n",
    "    print('\\033[1m' + 'Shape (rows, columns):' + '\\033[0m')\n",
    "    print(df_campaign_hh.shape, \n",
    "          \n",
    "          '\\n------------------------------------------------------------------------------------\\n')\n",
    "    \n",
    "    print('\\033[1m' + 'Columns :' + '\\033[0m')\n",
    "    print(df_campaign_hh.columns, \n",
    "          \n",
    "          '\\n------------------------------------------------------------------------------------\\n')\n",
    "    \n",
    "    print('\\033[1m' + 'Datatypes & Missing values:' + '\\033[0m')\n",
    "    print(df_campaign_hh.info(), \n",
    "          \n",
    "          '\\n------------------------------------------------------------------------------------\\n')\n",
    "    \n",
    "    for col in df_campaign_hh.columns:\n",
    "        print('\\033[1m' + 'Unique Values in {} :'.format(col) + '\\033[0m',len(df_campaign_hh[col].unique()))\n",
    "\n",
    "    print('\\n------------------------------------------------------------------------------------\\n')\n",
    "    \n",
    "    print('\\033[1m' + 'Summarized Statistics :' + '\\033[0m')\n",
    "    print(df_campaign_hh.describe(include='all'), \n",
    "          \n",
    "          '\\n------------------------------------------------------------------------------------\\n')\n",
    "    \n",
    "\n",
    "    \n",
    "    print('\\033[1m' + 'Number of duplicate values :' + '\\033[0m')\n",
    "    print(df_campaign_hh.duplicated().sum())\n",
    "          \n",
    "EDA(df_campaign_hh)"
   ]
  },
  {
   "cell_type": "code",
   "execution_count": 37,
   "metadata": {},
   "outputs": [
    {
     "data": {
      "text/html": [
       "<div>\n",
       "<style scoped>\n",
       "    .dataframe tbody tr th:only-of-type {\n",
       "        vertical-align: middle;\n",
       "    }\n",
       "\n",
       "    .dataframe tbody tr th {\n",
       "        vertical-align: top;\n",
       "    }\n",
       "\n",
       "    .dataframe thead th {\n",
       "        text-align: right;\n",
       "    }\n",
       "</style>\n",
       "<table border=\"1\" class=\"dataframe\">\n",
       "  <thead>\n",
       "    <tr style=\"text-align: right;\">\n",
       "      <th></th>\n",
       "      <th>DESCRIPTION</th>\n",
       "      <th>household_key</th>\n",
       "      <th>CAMPAIGN</th>\n",
       "    </tr>\n",
       "  </thead>\n",
       "  <tbody>\n",
       "    <tr>\n",
       "      <th>0</th>\n",
       "      <td>TypeA</td>\n",
       "      <td>17</td>\n",
       "      <td>26</td>\n",
       "    </tr>\n",
       "    <tr>\n",
       "      <th>1</th>\n",
       "      <td>TypeA</td>\n",
       "      <td>27</td>\n",
       "      <td>26</td>\n",
       "    </tr>\n",
       "    <tr>\n",
       "      <th>2</th>\n",
       "      <td>TypeA</td>\n",
       "      <td>212</td>\n",
       "      <td>26</td>\n",
       "    </tr>\n",
       "    <tr>\n",
       "      <th>3</th>\n",
       "      <td>TypeA</td>\n",
       "      <td>208</td>\n",
       "      <td>26</td>\n",
       "    </tr>\n",
       "    <tr>\n",
       "      <th>4</th>\n",
       "      <td>TypeA</td>\n",
       "      <td>192</td>\n",
       "      <td>26</td>\n",
       "    </tr>\n",
       "  </tbody>\n",
       "</table>\n",
       "</div>"
      ],
      "text/plain": [
       "  DESCRIPTION  household_key  CAMPAIGN\n",
       "0       TypeA             17        26\n",
       "1       TypeA             27        26\n",
       "2       TypeA            212        26\n",
       "3       TypeA            208        26\n",
       "4       TypeA            192        26"
      ]
     },
     "execution_count": 37,
     "metadata": {},
     "output_type": "execute_result"
    }
   ],
   "source": [
    "df_campaign_hh.head(5)"
   ]
  },
  {
   "cell_type": "markdown",
   "metadata": {},
   "source": [
    "How many households participated or received a campaign? We know from the dataset description, that there are 2500 households."
   ]
  },
  {
   "cell_type": "code",
   "execution_count": 38,
   "metadata": {},
   "outputs": [
    {
     "name": "stdout",
     "output_type": "stream",
     "text": [
      "the number of households that received a campaing are: 1584\n"
     ]
    }
   ],
   "source": [
    "print(\"the number of households that received a campaing are:\" , len(df_campaign_hh.household_key.unique()))"
   ]
  },
  {
   "cell_type": "code",
   "execution_count": 39,
   "metadata": {},
   "outputs": [
    {
     "name": "stdout",
     "output_type": "stream",
     "text": [
      "63 % of households received a campaign\n"
     ]
    }
   ],
   "source": [
    "print(round(1584/2500*100) , \"% of households received a campaign\")"
   ]
  },
  {
   "cell_type": "markdown",
   "metadata": {},
   "source": [
    "To be more specific, lets see Campaings per Households"
   ]
  },
  {
   "cell_type": "code",
   "execution_count": 40,
   "metadata": {},
   "outputs": [
    {
     "data": {
      "image/png": "[encoded data removed]",
      "text/plain": [
       "<Figure size 1296x864 with 1 Axes>"
      ]
     },
     "metadata": {
      "needs_background": "light"
     },
     "output_type": "display_data"
    }
   ],
   "source": [
    "total_households = 2500\n",
    "\n",
    "no_of_received_campaigns_per_house = df_campaign_hh.household_key.value_counts()\n",
    "no_of_received_campaigns = no_of_received_campaigns_per_house.value_counts()\n",
    "no_of_received_campaigns[0] = total_households-len(no_of_received_campaigns_per_house)\n",
    "no_of_received_campaigns = pd.DataFrame(list(zip(no_of_received_campaigns.index,no_of_received_campaigns))\n",
    "                                        ,columns=[\"Number of Campaigns Received\",\n",
    "                                                  \"Number of Households Reached To\"]).sort_values(\n",
    "                                                                                            by=\"Number of Campaigns Received\",ascending=True)\n",
    "plt.figure(figsize=(18,12))\n",
    "sns.barplot(y=\"Number of Campaigns Received\",x=\"Number of Households Reached To\",data=no_of_received_campaigns,orient=\"h\",order=no_of_received_campaigns[\"Number of Campaigns Received\"])\n",
    "plt.title('Number of Campaigns Received By Households Number', fontsize=17)\n",
    "plt.xlabel('Number of Households Reached To', fontsize=14)\n",
    "plt.ylabel('Number of Campaigns Received', fontsize=14)\n",
    "plt.show()"
   ]
  },
  {
   "cell_type": "markdown",
   "metadata": {},
   "source": [
    "While 37% of households never received/participated in a campaing (not good), the distribution of number of campaigns through households looks decent. \n",
    "Against reasonable business expectations, what we would love to have is actually de opposite (the plot inverted): more campaigns distributed over more households."
   ]
  },
  {
   "cell_type": "markdown",
   "metadata": {},
   "source": [
    "Most Frequent Campaigns\n",
    "\n",
    "Graph below gives the most frequent campaigns. "
   ]
  },
  {
   "cell_type": "code",
   "execution_count": 41,
   "metadata": {},
   "outputs": [
    {
     "data": {
      "image/png": "[encoded data removed]",
      "text/plain": [
       "<Figure size 1296x864 with 1 Axes>"
      ]
     },
     "metadata": {
      "needs_background": "light"
     },
     "output_type": "display_data"
    }
   ],
   "source": [
    "freq_campaigns = pd.DataFrame(list(zip(df_campaign_hh.CAMPAIGN.value_counts().index, \n",
    "                                       df_campaign_hh.CAMPAIGN.value_counts())),columns=[\"Campaign\",\"Frequency\"])\n",
    "fig = plt.figure(figsize=(18,12))\n",
    "sns.barplot(y=\"Campaign\",x=\"Frequency\",data = freq_campaigns,orient=\"h\")\n",
    "plt.title('Frequency of Each Campaign', fontsize=17)\n",
    "plt.xlabel('Frequency', fontsize=14)\n",
    "plt.ylabel('Campaign No.', fontsize=14)\n",
    "plt.show()"
   ]
  },
  {
   "cell_type": "markdown",
   "metadata": {},
   "source": [
    "Campaign number 18, 13 and 8 being the most frequent ones reaching 1000 and more households each \n",
    "(no campaigns applied to same customer more than once, therefore Frequency axis gives unique number of households).\n",
    "\n",
    "This leaves us the hint to investigate, enhance and replicate: Why were this campaigns so succesfull?"
   ]
  },
  {
   "cell_type": "markdown",
   "metadata": {},
   "source": [
    "## Coupons and Redemptions"
   ]
  },
  {
   "cell_type": "markdown",
   "metadata": {},
   "source": [
    "### Coupons"
   ]
  },
  {
   "cell_type": "code",
   "execution_count": 42,
   "metadata": {},
   "outputs": [
    {
     "data": {
      "text/html": [
       "<div>\n",
       "<style scoped>\n",
       "    .dataframe tbody tr th:only-of-type {\n",
       "        vertical-align: middle;\n",
       "    }\n",
       "\n",
       "    .dataframe tbody tr th {\n",
       "        vertical-align: top;\n",
       "    }\n",
       "\n",
       "    .dataframe thead th {\n",
       "        text-align: right;\n",
       "    }\n",
       "</style>\n",
       "<table border=\"1\" class=\"dataframe\">\n",
       "  <thead>\n",
       "    <tr style=\"text-align: right;\">\n",
       "      <th></th>\n",
       "      <th>COUPON_UPC</th>\n",
       "      <th>PRODUCT_ID</th>\n",
       "      <th>CAMPAIGN</th>\n",
       "    </tr>\n",
       "  </thead>\n",
       "  <tbody>\n",
       "    <tr>\n",
       "      <th>0</th>\n",
       "      <td>10000089061</td>\n",
       "      <td>27160</td>\n",
       "      <td>4</td>\n",
       "    </tr>\n",
       "    <tr>\n",
       "      <th>1</th>\n",
       "      <td>10000089064</td>\n",
       "      <td>27754</td>\n",
       "      <td>9</td>\n",
       "    </tr>\n",
       "    <tr>\n",
       "      <th>2</th>\n",
       "      <td>10000089073</td>\n",
       "      <td>28897</td>\n",
       "      <td>12</td>\n",
       "    </tr>\n",
       "    <tr>\n",
       "      <th>3</th>\n",
       "      <td>51800009050</td>\n",
       "      <td>28919</td>\n",
       "      <td>28</td>\n",
       "    </tr>\n",
       "    <tr>\n",
       "      <th>4</th>\n",
       "      <td>52100000076</td>\n",
       "      <td>28929</td>\n",
       "      <td>25</td>\n",
       "    </tr>\n",
       "  </tbody>\n",
       "</table>\n",
       "</div>"
      ],
      "text/plain": [
       "    COUPON_UPC  PRODUCT_ID  CAMPAIGN\n",
       "0  10000089061       27160         4\n",
       "1  10000089064       27754         9\n",
       "2  10000089073       28897        12\n",
       "3  51800009050       28919        28\n",
       "4  52100000076       28929        25"
      ]
     },
     "execution_count": 42,
     "metadata": {},
     "output_type": "execute_result"
    }
   ],
   "source": [
    "df_coupons.head(5)"
   ]
  },
  {
   "cell_type": "markdown",
   "metadata": {},
   "source": [
    "This file is a Is a lookup table which lists all the coupons sent to customers as part of a campaign, as well as the products for which each coupon is redeemable\n",
    "\n",
    "\"UPC Coupon Codes were commonly used between 1997-2011 and are still in limited use.  Today the Databar Coupons have supplanted UPC Coupons, however there may be some still in use.\"\n",
    "\n",
    "source: https://www.barcode.graphics/education-coupon-formats/"
   ]
  },
  {
   "cell_type": "markdown",
   "metadata": {},
   "source": [
    "Dataset Quality Check"
   ]
  },
  {
   "cell_type": "code",
   "execution_count": 43,
   "metadata": {},
   "outputs": [
    {
     "name": "stdout",
     "output_type": "stream",
     "text": [
      "\u001b[1mEXPLORATORY DATA ANALYSIS :\u001b[0m\n",
      "\n",
      "\u001b[1mShape (rows, columns):\u001b[0m\n",
      "(124548, 3) \n",
      "------------------------------------------------------------------------------------\n",
      "\n",
      "\u001b[1mColumns :\u001b[0m\n",
      "Index(['COUPON_UPC', 'PRODUCT_ID', 'CAMPAIGN'], dtype='object') \n",
      "------------------------------------------------------------------------------------\n",
      "\n",
      "\u001b[1mDatatypes & Missing values:\u001b[0m\n",
      "<class 'pandas.core.frame.DataFrame'>\n",
      "RangeIndex: 124548 entries, 0 to 124547\n",
      "Data columns (total 3 columns):\n",
      " #   Column      Non-Null Count   Dtype\n",
      "---  ------      --------------   -----\n",
      " 0   COUPON_UPC  124548 non-null  int64\n",
      " 1   PRODUCT_ID  124548 non-null  int64\n",
      " 2   CAMPAIGN    124548 non-null  int64\n",
      "dtypes: int64(3)\n",
      "memory usage: 2.9 MB\n",
      "None \n",
      "------------------------------------------------------------------------------------\n",
      "\n",
      "\u001b[1mUnique Values in COUPON_UPC :\u001b[0m 1135\n",
      "\u001b[1mUnique Values in PRODUCT_ID :\u001b[0m 44133\n",
      "\u001b[1mUnique Values in CAMPAIGN :\u001b[0m 30\n",
      "\n",
      "------------------------------------------------------------------------------------\n",
      "\n",
      "\u001b[1mSummarized Statistics :\u001b[0m\n",
      "         COUPON_UPC    PRODUCT_ID       CAMPAIGN\n",
      "count  1.245480e+05  1.245480e+05  124548.000000\n",
      "mean   2.198225e+10  4.651277e+06      15.855935\n",
      "std    1.961641e+10  4.843450e+06       6.015524\n",
      "min    1.000009e+10  2.567100e+04       1.000000\n",
      "25%    1.000009e+10  9.593030e+05      13.000000\n",
      "50%    1.000009e+10  1.411451e+06      14.000000\n",
      "75%    5.111108e+10  8.357538e+06      18.000000\n",
      "max    5.998660e+10  1.814854e+07      30.000000 \n",
      "------------------------------------------------------------------------------------\n",
      "\n",
      "\u001b[1mNumber of duplicate values :\u001b[0m\n",
      "5164\n"
     ]
    }
   ],
   "source": [
    "def EDA(df_coupons):\n",
    "    \n",
    "    print('\\033[1m' +'EXPLORATORY DATA ANALYSIS :'+ '\\033[0m\\n')\n",
    "    print('\\033[1m' + 'Shape (rows, columns):' + '\\033[0m')\n",
    "    print(df_coupons.shape, \n",
    "          \n",
    "          '\\n------------------------------------------------------------------------------------\\n')\n",
    "    \n",
    "    print('\\033[1m' + 'Columns :' + '\\033[0m')\n",
    "    print(df_coupons.columns, \n",
    "          \n",
    "          '\\n------------------------------------------------------------------------------------\\n')\n",
    "    \n",
    "    print('\\033[1m' + 'Datatypes & Missing values:' + '\\033[0m')\n",
    "    print(df_coupons.info(), \n",
    "          \n",
    "          '\\n------------------------------------------------------------------------------------\\n')\n",
    "    \n",
    "    for col in df_coupons.columns:\n",
    "        print('\\033[1m' + 'Unique Values in {} :'.format(col) + '\\033[0m',len(df_coupons[col].unique()))\n",
    "\n",
    "    print('\\n------------------------------------------------------------------------------------\\n')\n",
    "    \n",
    "    print('\\033[1m' + 'Summarized Statistics :' + '\\033[0m')\n",
    "    print(df_coupons.describe(include='all'), \n",
    "          \n",
    "          '\\n------------------------------------------------------------------------------------\\n')\n",
    "    \n",
    "\n",
    "    \n",
    "    print('\\033[1m' + 'Number of duplicate values :' + '\\033[0m')\n",
    "    print(df_coupons.duplicated().sum())\n",
    "          \n",
    "EDA(df_coupons)"
   ]
  },
  {
   "cell_type": "markdown",
   "metadata": {},
   "source": [
    "Considering a 120k rows dataset, 5k duplicates is not much (less than 5%). \n",
    "Nonetheless we would like to know the reason of that:\n",
    "\n",
    "- Allegedly, its fair to think the data is valid (not duplicated), as there´s no business reason to make distinct coupons-codes for same Products and Campaigns, other than preventing other customers than the intended ones, from using them (why would you prevent someone from purchasing at your store?). \n",
    "- This last arguments gains strengh as the table does not include the household_key, lacking of any relation or treacability oh which coupon went to whom. "
   ]
  },
  {
   "cell_type": "markdown",
   "metadata": {},
   "source": [
    "### Coupon Redemption"
   ]
  },
  {
   "cell_type": "code",
   "execution_count": 44,
   "metadata": {},
   "outputs": [
    {
     "data": {
      "text/html": [
       "<div>\n",
       "<style scoped>\n",
       "    .dataframe tbody tr th:only-of-type {\n",
       "        vertical-align: middle;\n",
       "    }\n",
       "\n",
       "    .dataframe tbody tr th {\n",
       "        vertical-align: top;\n",
       "    }\n",
       "\n",
       "    .dataframe thead th {\n",
       "        text-align: right;\n",
       "    }\n",
       "</style>\n",
       "<table border=\"1\" class=\"dataframe\">\n",
       "  <thead>\n",
       "    <tr style=\"text-align: right;\">\n",
       "      <th></th>\n",
       "      <th>household_key</th>\n",
       "      <th>DAY</th>\n",
       "      <th>COUPON_UPC</th>\n",
       "      <th>CAMPAIGN</th>\n",
       "    </tr>\n",
       "  </thead>\n",
       "  <tbody>\n",
       "    <tr>\n",
       "      <th>0</th>\n",
       "      <td>1</td>\n",
       "      <td>421</td>\n",
       "      <td>10000085364</td>\n",
       "      <td>8</td>\n",
       "    </tr>\n",
       "    <tr>\n",
       "      <th>1</th>\n",
       "      <td>1</td>\n",
       "      <td>421</td>\n",
       "      <td>51700010076</td>\n",
       "      <td>8</td>\n",
       "    </tr>\n",
       "    <tr>\n",
       "      <th>2</th>\n",
       "      <td>1</td>\n",
       "      <td>427</td>\n",
       "      <td>54200000033</td>\n",
       "      <td>8</td>\n",
       "    </tr>\n",
       "    <tr>\n",
       "      <th>3</th>\n",
       "      <td>1</td>\n",
       "      <td>597</td>\n",
       "      <td>10000085476</td>\n",
       "      <td>18</td>\n",
       "    </tr>\n",
       "    <tr>\n",
       "      <th>4</th>\n",
       "      <td>1</td>\n",
       "      <td>597</td>\n",
       "      <td>54200029176</td>\n",
       "      <td>18</td>\n",
       "    </tr>\n",
       "  </tbody>\n",
       "</table>\n",
       "</div>"
      ],
      "text/plain": [
       "   household_key  DAY   COUPON_UPC  CAMPAIGN\n",
       "0              1  421  10000085364         8\n",
       "1              1  421  51700010076         8\n",
       "2              1  427  54200000033         8\n",
       "3              1  597  10000085476        18\n",
       "4              1  597  54200029176        18"
      ]
     },
     "execution_count": 44,
     "metadata": {},
     "output_type": "execute_result"
    }
   ],
   "source": [
    "df_coupons_redempt.head(5)"
   ]
  },
  {
   "cell_type": "markdown",
   "metadata": {},
   "source": [
    "Is a data table, ordered by household_key, gives which household redeemed what coupon number.\n",
    "Also the day of the redeem and the campaign number is given for each household.\n",
    "How many households redeemed coupons?"
   ]
  },
  {
   "cell_type": "markdown",
   "metadata": {},
   "source": [
    "Dataset Quality Check"
   ]
  },
  {
   "cell_type": "code",
   "execution_count": 45,
   "metadata": {},
   "outputs": [
    {
     "name": "stdout",
     "output_type": "stream",
     "text": [
      "\u001b[1mEXPLORATORY DATA ANALYSIS :\u001b[0m\n",
      "\n",
      "\u001b[1mShape (rows, columns):\u001b[0m\n",
      "(2318, 4) \n",
      "------------------------------------------------------------------------------------\n",
      "\n",
      "\u001b[1mColumns :\u001b[0m\n",
      "Index(['household_key', 'DAY', 'COUPON_UPC', 'CAMPAIGN'], dtype='object') \n",
      "------------------------------------------------------------------------------------\n",
      "\n",
      "\u001b[1mDatatypes & Missing values:\u001b[0m\n",
      "<class 'pandas.core.frame.DataFrame'>\n",
      "RangeIndex: 2318 entries, 0 to 2317\n",
      "Data columns (total 4 columns):\n",
      " #   Column         Non-Null Count  Dtype\n",
      "---  ------         --------------  -----\n",
      " 0   household_key  2318 non-null   int64\n",
      " 1   DAY            2318 non-null   int64\n",
      " 2   COUPON_UPC     2318 non-null   int64\n",
      " 3   CAMPAIGN       2318 non-null   int64\n",
      "dtypes: int64(4)\n",
      "memory usage: 72.6 KB\n",
      "None \n",
      "------------------------------------------------------------------------------------\n",
      "\n",
      "\u001b[1mUnique Values in household_key :\u001b[0m 434\n",
      "\u001b[1mUnique Values in DAY :\u001b[0m 328\n",
      "\u001b[1mUnique Values in COUPON_UPC :\u001b[0m 556\n",
      "\u001b[1mUnique Values in CAMPAIGN :\u001b[0m 30\n",
      "\n",
      "------------------------------------------------------------------------------------\n",
      "\n",
      "\u001b[1mSummarized Statistics :\u001b[0m\n",
      "       household_key          DAY    COUPON_UPC     CAMPAIGN\n",
      "count    2318.000000  2318.000000  2.318000e+03  2318.000000\n",
      "mean     1302.816652   528.217429  4.123049e+10    15.551337\n",
      "std       783.002545   100.360985  1.986068e+10     5.716636\n",
      "min         1.000000   225.000000  1.000009e+10     1.000000\n",
      "25%       588.000000   458.250000  1.000009e+10    13.000000\n",
      "50%      1396.500000   532.000000  5.234003e+10    14.000000\n",
      "75%      2004.000000   605.000000  5.430002e+10    18.000000\n",
      "max      2500.000000   704.000000  5.897850e+10    30.000000 \n",
      "------------------------------------------------------------------------------------\n",
      "\n",
      "\u001b[1mNumber of duplicate values :\u001b[0m\n",
      "0\n"
     ]
    }
   ],
   "source": [
    "def EDA(df_coupons_redempt):\n",
    "    \n",
    "    print('\\033[1m' +'EXPLORATORY DATA ANALYSIS :'+ '\\033[0m\\n')\n",
    "    print('\\033[1m' + 'Shape (rows, columns):' + '\\033[0m')\n",
    "    print(df_coupons_redempt.shape, \n",
    "          \n",
    "          '\\n------------------------------------------------------------------------------------\\n')\n",
    "    \n",
    "    print('\\033[1m' + 'Columns :' + '\\033[0m')\n",
    "    print(df_coupons_redempt.columns, \n",
    "          \n",
    "          '\\n------------------------------------------------------------------------------------\\n')\n",
    "    \n",
    "    print('\\033[1m' + 'Datatypes & Missing values:' + '\\033[0m')\n",
    "    print(df_coupons_redempt.info(), \n",
    "          \n",
    "          '\\n------------------------------------------------------------------------------------\\n')\n",
    "    \n",
    "    for col in df_coupons_redempt.columns:\n",
    "        print('\\033[1m' + 'Unique Values in {} :'.format(col) + '\\033[0m',len(df_coupons_redempt[col].unique()))\n",
    "\n",
    "    print('\\n------------------------------------------------------------------------------------\\n')\n",
    "    \n",
    "    print('\\033[1m' + 'Summarized Statistics :' + '\\033[0m')\n",
    "    print(df_coupons_redempt.describe(include='all'), \n",
    "          \n",
    "          '\\n------------------------------------------------------------------------------------\\n')\n",
    "    \n",
    "\n",
    "    \n",
    "    print('\\033[1m' + 'Number of duplicate values :' + '\\033[0m')\n",
    "    print(df_coupons_redempt.duplicated().sum())\n",
    "          \n",
    "EDA(df_coupons_redempt)"
   ]
  },
  {
   "cell_type": "code",
   "execution_count": 46,
   "metadata": {},
   "outputs": [
    {
     "name": "stdout",
     "output_type": "stream",
     "text": [
      "434 households redeemed coupons\n"
     ]
    }
   ],
   "source": [
    "print(len(df_coupons_redempt.household_key.unique()) , \"households redeemed coupons\")"
   ]
  },
  {
   "cell_type": "markdown",
   "metadata": {},
   "source": [
    "### Number of Redeems for each Campaign"
   ]
  },
  {
   "cell_type": "code",
   "execution_count": 47,
   "metadata": {},
   "outputs": [
    {
     "data": {
      "image/png": "[encoded data removed]",
      "text/plain": [
       "<Figure size 1296x720 with 1 Axes>"
      ]
     },
     "metadata": {
      "needs_background": "light"
     },
     "output_type": "display_data"
    }
   ],
   "source": [
    "redeem_frequency = pd.DataFrame(list(zip(df_coupons_redempt.CAMPAIGN.value_counts().index, df_coupons_redempt.CAMPAIGN.value_counts())),columns=[\"Campaign\",\"No of Redeems\"])\n",
    "fig = plt.figure(figsize=(18,10))\n",
    "sns.barplot(y=\"Campaign\",x=\"No of Redeems\",data = redeem_frequency,orient=\"h\",order=redeem_frequency.Campaign)\n",
    "plt.title('Number of Redeems Each Campaign', fontsize=17)\n",
    "plt.xlabel('No of Redeems', fontsize=14)\n",
    "plt.ylabel('Campaign No.', fontsize=14)\n",
    "plt.show()"
   ]
  },
  {
   "cell_type": "markdown",
   "metadata": {},
   "source": [
    "Most frequent campaigns (18, 13 and 8, all belongs to TypeA) attracts the most number of redeems as expected. "
   ]
  },
  {
   "cell_type": "markdown",
   "metadata": {},
   "source": [
    "### Redeem Rate Per Campaing\n"
   ]
  },
  {
   "cell_type": "code",
   "execution_count": 48,
   "metadata": {},
   "outputs": [
    {
     "data": {
      "image/png": "[encoded data removed]",
      "text/plain": [
       "<Figure size 1296x864 with 1 Axes>"
      ]
     },
     "metadata": {
      "needs_background": "light"
     },
     "output_type": "display_data"
    }
   ],
   "source": [
    "redems_per_camp = df_coupons_redempt.CAMPAIGN.value_counts().sort_values()/df_campaign_hh.CAMPAIGN.value_counts().sort_values()\n",
    "redems_per_camp = pd.DataFrame(list(zip(redems_per_camp.index,redems_per_camp)),\n",
    "                               columns=[\"Campaign\",\"Redeem_Rate\"]).sort_values(by=\"Redeem_Rate\",ascending=False)\n",
    "plt.figure(figsize=(18,12))\n",
    "sns.barplot(y=\"Campaign\",x=\"Redeem_Rate\",data=redems_per_camp,orient=\"h\",order=redems_per_camp.Campaign)\n",
    "plt.title('Redeem Rate per Campaign', fontsize=17)\n",
    "plt.xlabel('Redeem Rate', fontsize=14)\n",
    "plt.ylabel('Campaign No.', fontsize=14)\n",
    "plt.show()"
   ]
  },
  {
   "cell_type": "markdown",
   "metadata": {},
   "source": [
    "Campaign 13 and 18 are clearly have higher redeem rates (~60%) as compared to the rest of campaigns.\n",
    "Based on these results, campaign organisers did well by promoting the right campaigns (13 and 18) more frequently."
   ]
  },
  {
   "cell_type": "markdown",
   "metadata": {},
   "source": [
    "# Churn Prediction\n",
    "\n",
    "Predicting the percentage of lost customers. A household that stops buying is a Churned customer: that household is surely making it purchases on the competition most of the times. \n",
    "\n",
    "Unfortunately, there is not column which indicates if a household has stop purchasing at our store for a given time. This would be our Target variable, the one we are trying to predict to extract more insights on which are the root causes. We will first have to define and operationalize this variable in order to predict it. \n",
    "\n",
    "Transactional products, opposite to subscription-based products, dont offer a clear sign of churn, as no service is cancelled nor declared.\n",
    "\n",
    "Churn Retail Rate:\n",
    "\n",
    "- Less than 5%: Excellent.\n",
    "- 5% to 7%: Acceptable.\n",
    "- 10% or more: Concerning.\n",
    "\n",
    "Business cant grow with such a high churn volume, even when acquiring new customers. Caring for existing customers is  more profitable than acquiring new ones. It costs five times more to obtain a new customer than it does to retain an existing customer. \n",
    "Decreasing  churn rate by five percent increases profits up to 125%.\n",
    "\n",
    "Let's define transactional churn:\n",
    "\n",
    "- A customer will be considered as churned if not purchased from a store 2 weeks or more.\n",
    "- 2 weeks out threshold is chosen as it splits households around 85%/15% No Churn/Churn."
   ]
  },
  {
   "cell_type": "markdown",
   "metadata": {},
   "source": [
    "## Target Engineering"
   ]
  },
  {
   "cell_type": "code",
   "execution_count": 49,
   "metadata": {},
   "outputs": [
    {
     "data": {
      "image/png": "[encoded data removed]",
      "text/plain": [
       "<Figure size 1152x720 with 1 Axes>"
      ]
     },
     "metadata": {
      "needs_background": "light"
     },
     "output_type": "display_data"
    }
   ],
   "source": [
    "out_weeks_threshold = 2\n",
    "\n",
    "# weekly customer purchase amount\n",
    "\n",
    "weekly_purchase = df_transactions.groupby([\"household_key\",\"WEEK_NO\"]).sum()[\"SALES_VALUE\"]\n",
    "weekly_purchase = weekly_purchase.unstack()\n",
    "\n",
    "# customer churned by their last 2 week's purchasing behaviour\n",
    "#  go through all households and calculate out weeks\n",
    "\n",
    "target = []\n",
    "common_houses = set(df_demographics.household_key) & set(df_transactions.household_key)\n",
    "for house in common_houses:\n",
    "  target.append(102-weekly_purchase.loc[house].dropna().index[-1])\n",
    "\n",
    "target = pd.DataFrame(list(zip(common_houses,target)),columns=[\"household_key\",\"No. of Churned Weeks\"])\n",
    "plt.figure(figsize=(16,10))\n",
    "ax = sns.distplot(target[\"No. of Churned Weeks\"],kde=False)\n",
    "ax.axvline(x=out_weeks_threshold,c=\"red\",label=\"Out weeks threshold\")\n",
    "ax.legend()\n",
    "ax.set_yscale(\"log\")\n",
    "ax.set_ylabel(\"Frequency (Log)\", fontsize=14)\n",
    "ax.set_xlabel(\"No. of Churned Weeks\", fontsize=14)\n",
    "\n",
    "plt.title('Churn Weeks Number', fontsize=17)\n",
    "# plt.xlabel('Total Purchases (USD)', fontsize=14)\n",
    "# plt.ylabel('Household Key', fontsize=14)\n",
    "plt.show()"
   ]
  },
  {
   "cell_type": "markdown",
   "metadata": {},
   "source": [
    "### Target Definition\n",
    "\n",
    "Churned -> True\n",
    "Not Churned -> False"
   ]
  },
  {
   "cell_type": "code",
   "execution_count": 50,
   "metadata": {},
   "outputs": [],
   "source": [
    "target[\"isChurned\"] = target[\"No. of Churned Weeks\"]>=out_weeks_threshold\n",
    "target.drop(\"No. of Churned Weeks\",axis=1,inplace=True)"
   ]
  },
  {
   "cell_type": "markdown",
   "metadata": {},
   "source": [
    "### Customer clasification"
   ]
  },
  {
   "cell_type": "code",
   "execution_count": 51,
   "metadata": {},
   "outputs": [
    {
     "data": {
      "image/png": "[encoded data removed]",
      "text/plain": [
       "<Figure size 432x288 with 1 Axes>"
      ]
     },
     "metadata": {},
     "output_type": "display_data"
    }
   ],
   "source": [
    "target.isChurned.value_counts().plot(kind=\"pie\",autopct=\"%.1f%%\",labels=[\"Non-Churned\",\"Churned\"])\n",
    "plt.ylabel(\"\")\n",
    "plt.title(\"Churn Variable Distribution\",fontweight=\"bold\")\n",
    "plt.show()"
   ]
  },
  {
   "cell_type": "markdown",
   "metadata": {},
   "source": [
    "### Optimization\n",
    "\n",
    "This 14% might indicate they are in deep business continuity trouble. But, what if the 2-week threshold is too tight?\n",
    "Lets print some products´ information to try guess in what product-area this retail specializes, in order to establish a reasonable period for considering a customer \"churned\".\n",
    "\n",
    "Reasoning > different products implie different purchasing frequencies: a household doesnt purchase clothes everyweek, but there are high chances that it does buy food. "
   ]
  },
  {
   "cell_type": "markdown",
   "metadata": {},
   "source": [
    "### Business Comprehension. "
   ]
  },
  {
   "cell_type": "code",
   "execution_count": 52,
   "metadata": {},
   "outputs": [
    {
     "data": {
      "text/html": [
       "<div>\n",
       "<style scoped>\n",
       "    .dataframe tbody tr th:only-of-type {\n",
       "        vertical-align: middle;\n",
       "    }\n",
       "\n",
       "    .dataframe tbody tr th {\n",
       "        vertical-align: top;\n",
       "    }\n",
       "\n",
       "    .dataframe thead th {\n",
       "        text-align: right;\n",
       "    }\n",
       "</style>\n",
       "<table border=\"1\" class=\"dataframe\">\n",
       "  <thead>\n",
       "    <tr style=\"text-align: right;\">\n",
       "      <th></th>\n",
       "      <th>PRODUCT_ID</th>\n",
       "      <th>MANUFACTURER</th>\n",
       "      <th>DEPARTMENT</th>\n",
       "      <th>BRAND</th>\n",
       "      <th>COMMODITY_DESC</th>\n",
       "      <th>SUB_COMMODITY_DESC</th>\n",
       "      <th>CURR_SIZE_OF_PRODUCT</th>\n",
       "    </tr>\n",
       "  </thead>\n",
       "  <tbody>\n",
       "    <tr>\n",
       "      <th>0</th>\n",
       "      <td>25671</td>\n",
       "      <td>2</td>\n",
       "      <td>GROCERY</td>\n",
       "      <td>National</td>\n",
       "      <td>FRZN ICE</td>\n",
       "      <td>ICE - CRUSHED/CUBED</td>\n",
       "      <td>22 LB</td>\n",
       "    </tr>\n",
       "    <tr>\n",
       "      <th>1</th>\n",
       "      <td>26081</td>\n",
       "      <td>2</td>\n",
       "      <td>MISC. TRANS.</td>\n",
       "      <td>National</td>\n",
       "      <td>NO COMMODITY DESCRIPTION</td>\n",
       "      <td>NO SUBCOMMODITY DESCRIPTION</td>\n",
       "      <td></td>\n",
       "    </tr>\n",
       "    <tr>\n",
       "      <th>2</th>\n",
       "      <td>26093</td>\n",
       "      <td>69</td>\n",
       "      <td>PASTRY</td>\n",
       "      <td>Private</td>\n",
       "      <td>BREAD</td>\n",
       "      <td>BREAD:ITALIAN/FRENCH</td>\n",
       "      <td></td>\n",
       "    </tr>\n",
       "    <tr>\n",
       "      <th>3</th>\n",
       "      <td>26190</td>\n",
       "      <td>69</td>\n",
       "      <td>GROCERY</td>\n",
       "      <td>Private</td>\n",
       "      <td>FRUIT - SHELF STABLE</td>\n",
       "      <td>APPLE SAUCE</td>\n",
       "      <td>50 OZ</td>\n",
       "    </tr>\n",
       "    <tr>\n",
       "      <th>4</th>\n",
       "      <td>26355</td>\n",
       "      <td>69</td>\n",
       "      <td>GROCERY</td>\n",
       "      <td>Private</td>\n",
       "      <td>COOKIES/CONES</td>\n",
       "      <td>SPECIALTY COOKIES</td>\n",
       "      <td>14 OZ</td>\n",
       "    </tr>\n",
       "  </tbody>\n",
       "</table>\n",
       "</div>"
      ],
      "text/plain": [
       "   PRODUCT_ID  MANUFACTURER    DEPARTMENT     BRAND            COMMODITY_DESC  \\\n",
       "0       25671             2       GROCERY  National                  FRZN ICE   \n",
       "1       26081             2  MISC. TRANS.  National  NO COMMODITY DESCRIPTION   \n",
       "2       26093            69        PASTRY   Private                     BREAD   \n",
       "3       26190            69       GROCERY   Private      FRUIT - SHELF STABLE   \n",
       "4       26355            69       GROCERY   Private             COOKIES/CONES   \n",
       "\n",
       "            SUB_COMMODITY_DESC CURR_SIZE_OF_PRODUCT  \n",
       "0          ICE - CRUSHED/CUBED                22 LB  \n",
       "1  NO SUBCOMMODITY DESCRIPTION                       \n",
       "2         BREAD:ITALIAN/FRENCH                       \n",
       "3                  APPLE SAUCE                50 OZ  \n",
       "4            SPECIALTY COOKIES                14 OZ  "
      ]
     },
     "execution_count": 52,
     "metadata": {},
     "output_type": "execute_result"
    }
   ],
   "source": [
    "df_product.head(5)"
   ]
  },
  {
   "cell_type": "markdown",
   "metadata": {},
   "source": [
    "Head shows gastronomy related products. Lets dive deeper with this department presence. "
   ]
  },
  {
   "cell_type": "code",
   "execution_count": 53,
   "metadata": {},
   "outputs": [
    {
     "data": {
      "text/plain": [
       "<AxesSubplot:>"
      ]
     },
     "execution_count": 53,
     "metadata": {},
     "output_type": "execute_result"
    },
    {
     "data": {
      "image/png": "[encoded data removed]",
      "text/plain": [
       "<Figure size 1296x864 with 1 Axes>"
      ]
     },
     "metadata": {
      "needs_background": "light"
     },
     "output_type": "display_data"
    }
   ],
   "source": [
    "df_product.DEPARTMENT.value_counts().plot(kind=\"bar\",figsize=(18,12))"
   ]
  },
  {
   "cell_type": "markdown",
   "metadata": {},
   "source": [
    "### Observations\n",
    "\n",
    "Although there is a broad and diverse separtment catalogue, the predominants are: Grocery, Drug GM, Produce, Nutrition, Meat, Deli & Pastry.\n",
    "- This Business is probably a big retail shop.\n",
    "- It may have department clasification defects, where lots of products appear in  \"GROCERY\", while they could receive a more specific clasification.\n",
    "- Our 2-Tweek initial threshold was not unreasonable, as it is expected that someone would have a high frequency purchase in this kind of shops. \n",
    "- However, lets expand the threshold tolerance to 3 weeks, asuming this specific retail is expensive or top-notch, the kind of shop someone would enter once or twice a month for acquiring special/imported/expensive/high quality products. "
   ]
  },
  {
   "cell_type": "markdown",
   "metadata": {},
   "source": [
    "### New Churn Threshold"
   ]
  },
  {
   "cell_type": "code",
   "execution_count": 54,
   "metadata": {},
   "outputs": [
    {
     "data": {
      "image/png": "[encoded data removed]",
      "text/plain": [
       "<Figure size 1152x720 with 1 Axes>"
      ]
     },
     "metadata": {
      "needs_background": "light"
     },
     "output_type": "display_data"
    }
   ],
   "source": [
    "# Lets try our new threshold\n",
    "\n",
    "churn_threshold = 3\n",
    "\n",
    "# weekly customer purchase amount\n",
    "\n",
    "weekly_purchase = df_transactions.groupby([\"household_key\",\"WEEK_NO\"]).sum()[\"SALES_VALUE\"]\n",
    "weekly_purchase = weekly_purchase.unstack()\n",
    "\n",
    "# customer churned by their last 2 week's purchasing behaviour\n",
    "#  go through all households and calculate out weeks\n",
    "\n",
    "target = []\n",
    "common_houses = set(df_demographics.household_key) & set(df_transactions.household_key)\n",
    "for house in common_houses:\n",
    "  target.append(102-weekly_purchase.loc[house].dropna().index[-1])\n",
    "\n",
    "target = pd.DataFrame(list(zip(common_houses,target)),columns=[\"household_key\",\"No. of Churned Weeks\"])\n",
    "plt.figure(figsize=(16,10))\n",
    "ax = sns.distplot(target[\"No. of Churned Weeks\"],kde=False)\n",
    "ax.axvline(x=churn_threshold,c=\"red\",label=\"Out weeks threshold\")\n",
    "ax.legend()\n",
    "ax.set_yscale(\"log\")\n",
    "ax.set_ylabel(\"Frequency (Log)\", fontsize=14)\n",
    "ax.set_xlabel(\"No. of Churned Weeks\", fontsize=14)\n",
    "\n",
    "plt.title('Churn Weeks Number', fontsize=17)\n",
    "# plt.xlabel('Total Purchases (USD)', fontsize=14)\n",
    "# plt.ylabel('Household Key', fontsize=14)\n",
    "plt.show()"
   ]
  },
  {
   "cell_type": "code",
   "execution_count": 55,
   "metadata": {},
   "outputs": [],
   "source": [
    "target[\"isChurned\"] = target[\"No. of Churned Weeks\"]>=churn_threshold\n",
    "target.drop(\"No. of Churned Weeks\",axis=1,inplace=True)"
   ]
  },
  {
   "cell_type": "code",
   "execution_count": 56,
   "metadata": {},
   "outputs": [
    {
     "data": {
      "image/png": "[encoded data removed]",
      "text/plain": [
       "<Figure size 432x288 with 1 Axes>"
      ]
     },
     "metadata": {},
     "output_type": "display_data"
    }
   ],
   "source": [
    "target.isChurned.value_counts().plot(kind=\"pie\",autopct=\"%.1f%%\",labels=[\"Non-Churned\",\"Churned\"])\n",
    "plt.ylabel(\"\")\n",
    "plt.title(\"Churn Variable Distribution\",fontweight=\"bold\")\n",
    "plt.show()"
   ]
  },
  {
   "cell_type": "markdown",
   "metadata": {},
   "source": [
    "### Updated Churn Percentage\n",
    "\n",
    "Now we got 8.6% Churned Customers, which is still not derirable, but much better than our previous 14%. Again, these are mere speculations on what we can grasp from the products dataset. Definining a valid and consistent Churn Threshold is a multi stakeholder, data-drive, business model - dependant mission. "
   ]
  },
  {
   "cell_type": "markdown",
   "metadata": {},
   "source": [
    "## Feature engineering\n",
    "\n",
    "From \"Campaign Table\", \"Transaction Data\" and \"Coupon Redempt\" tables we are pulling and modelling data, in order to build features, that will be key for predicting Churn (Target). "
   ]
  },
  {
   "cell_type": "markdown",
   "metadata": {},
   "source": [
    "### Feature 1: List of campaigns received by each household"
   ]
  },
  {
   "cell_type": "code",
   "execution_count": 57,
   "metadata": {},
   "outputs": [],
   "source": [
    "household_per_campaign = df_campaign_hh.groupby(\"CAMPAIGN\")[\"household_key\"].apply(list)\n",
    "total_campaigns = len(df_campaign_hh.CAMPAIGN.unique())\n",
    "df_camp = pd.DataFrame(np.full((total_households,total_campaigns),0),columns=[\"Camp_\"+str(i) for i in range(1,total_campaigns+1)],\n",
    "                                                                                                           index=range(1,total_households+1))\n",
    "for camp in household_per_campaign.index:\n",
    "    df_camp.loc[household_per_campaign[camp],\"Camp_\"+str(camp)] = 1\n",
    "\n",
    "df_camp[\"household_key\"] = df_camp.index"
   ]
  },
  {
   "cell_type": "markdown",
   "metadata": {},
   "source": [
    "### Feature 2: Total number of received campaigns per household"
   ]
  },
  {
   "cell_type": "code",
   "execution_count": 58,
   "metadata": {},
   "outputs": [],
   "source": [
    "temp = df_campaign_hh.household_key.value_counts().sort_index()\n",
    "no_of_received_campaigns = pd.DataFrame(list(zip(temp.index,temp.values.astype(int))),columns=[\"household_key\",\"no_of_received_campaigns\"])"
   ]
  },
  {
   "cell_type": "markdown",
   "metadata": {},
   "source": [
    "Number of campaigns received vs household's purchase behaviour.\n",
    "\n",
    "The correlation between the number of campaigns received by a household and their total purchase amount is visualised in a scatter plot below. Linear line in the graph shows the regression model fitted to the scattered data. One can say the aforementioned variables are linearly related."
   ]
  },
  {
   "cell_type": "code",
   "execution_count": 59,
   "metadata": {},
   "outputs": [
    {
     "data": {
      "text/plain": [
       "<Figure size 1152x576 with 0 Axes>"
      ]
     },
     "metadata": {},
     "output_type": "display_data"
    },
    {
     "data": {
      "image/png": "[encoded data removed]",
      "text/plain": [
       "<Figure size 561.6x432 with 1 Axes>"
      ]
     },
     "metadata": {
      "needs_background": "light"
     },
     "output_type": "display_data"
    }
   ],
   "source": [
    "plt.figure(figsize=(16,8))\n",
    "\n",
    "no_of_received_campaigns_vs_sumsales = pd.merge(no_of_received_campaigns,purc_per_cust,on=\"household_key\")\n",
    "sns.lmplot(x=\"no_of_received_campaigns\",y=\"Total Purchase (USD)\",data=no_of_received_campaigns_vs_sumsales,\n",
    "                                                                                                          size=6, aspect=1.3)\n",
    "plt.title('Correlation between Total Purchases and Number of Recieved Campaigns', fontsize=17)\n",
    "plt.xlabel('Total Purchases (USD)', fontsize=14)\n",
    "plt.ylabel('Number of Recieved Campaigns', fontsize=14)\n",
    "plt.show()"
   ]
  },
  {
   "cell_type": "code",
   "execution_count": 60,
   "metadata": {},
   "outputs": [
    {
     "data": {
      "text/html": [
       "<div>\n",
       "<style scoped>\n",
       "    .dataframe tbody tr th:only-of-type {\n",
       "        vertical-align: middle;\n",
       "    }\n",
       "\n",
       "    .dataframe tbody tr th {\n",
       "        vertical-align: top;\n",
       "    }\n",
       "\n",
       "    .dataframe thead th {\n",
       "        text-align: right;\n",
       "    }\n",
       "</style>\n",
       "<table border=\"1\" class=\"dataframe\">\n",
       "  <thead>\n",
       "    <tr style=\"text-align: right;\">\n",
       "      <th></th>\n",
       "      <th>no_of_received_campaigns</th>\n",
       "      <th>Total Purchase (USD)</th>\n",
       "    </tr>\n",
       "  </thead>\n",
       "  <tbody>\n",
       "    <tr>\n",
       "      <th>no_of_received_campaigns</th>\n",
       "      <td>1.000000</td>\n",
       "      <td>0.704409</td>\n",
       "    </tr>\n",
       "    <tr>\n",
       "      <th>Total Purchase (USD)</th>\n",
       "      <td>0.704409</td>\n",
       "      <td>1.000000</td>\n",
       "    </tr>\n",
       "  </tbody>\n",
       "</table>\n",
       "</div>"
      ],
      "text/plain": [
       "                          no_of_received_campaigns  Total Purchase (USD)\n",
       "no_of_received_campaigns                  1.000000              0.704409\n",
       "Total Purchase (USD)                      0.704409              1.000000"
      ]
     },
     "execution_count": 60,
     "metadata": {},
     "output_type": "execute_result"
    }
   ],
   "source": [
    "no_of_received_campaigns_vs_sumsales.drop(\"household_key\",axis=1).corr()"
   ]
  },
  {
   "cell_type": "markdown",
   "metadata": {},
   "source": [
    "The scatter plot and the correlation value above (70%) indicates that the total purchase amount of a household is positively correlated to the number of campaigns received by them."
   ]
  },
  {
   "cell_type": "markdown",
   "metadata": {},
   "source": [
    "### Feature 3: List of campaigns resulted in coupon redemption"
   ]
  },
  {
   "cell_type": "code",
   "execution_count": 61,
   "metadata": {},
   "outputs": [],
   "source": [
    "temp = df_coupons_redempt.groupby(\"household_key\")[\"CAMPAIGN\"].apply(list)\n",
    "rede_camp_history_per_household = pd.DataFrame(list(zip(temp.index,temp.values)),columns=[\"household_key\",\"redeemed_CAMPAIGN_list\"])"
   ]
  },
  {
   "cell_type": "markdown",
   "metadata": {},
   "source": [
    "### Feature 4: Number of redemptions made by each household"
   ]
  },
  {
   "cell_type": "code",
   "execution_count": 62,
   "metadata": {},
   "outputs": [],
   "source": [
    "temp = df_coupons_redempt.household_key.value_counts().sort_index()\n",
    "no_of_rede_per_household = pd.DataFrame(list(zip(temp.index,temp.values.astype(int))),columns=[\"household_key\",\"no_of_redeems\"])"
   ]
  },
  {
   "cell_type": "markdown",
   "metadata": {},
   "source": [
    "### Feature 5: Most Frequent Campaign Type (A,B,C) received by each household"
   ]
  },
  {
   "cell_type": "code",
   "execution_count": 63,
   "metadata": {},
   "outputs": [],
   "source": [
    "camp_list = df_campaign_hh.groupby(\"household_key\")[\"DESCRIPTION\"].apply(list)\n",
    "most_freq_type = pd.DataFrame(list(zip(camp_list.index,[pd.Series(i).value_counts().idxmax() for i in camp_list])),columns=[\"household_key\",\"most_freq_camp_type\"])"
   ]
  },
  {
   "cell_type": "markdown",
   "metadata": {},
   "source": [
    "### Feature 6: Top 20 stores with high number of households which have more high out weeks"
   ]
  },
  {
   "cell_type": "code",
   "execution_count": 64,
   "metadata": {},
   "outputs": [],
   "source": [
    "store_per_house = df_transactions.groupby(\"household_key\")[\"STORE_ID\"].apply(list).apply(np.unique)\n",
    "\n",
    "churn_houses = set(target.household_key[target.isChurned == True].sort_values().values) & set(df_demographics.household_key.unique())\n",
    "churn_stores = []\n",
    "for i in churn_houses:\n",
    "  churn_stores.extend(store_per_house[i])\n",
    "\n",
    "churn_stores = pd.Series(churn_stores).value_counts()/len(churn_houses)\n",
    "\n",
    "df_store = df_transactions.groupby([\"STORE_ID\",\"household_key\"]).count()[\"BASKET_ID\"].unstack(\"STORE_ID\")\n",
    "df_store.replace(np.nan,0,inplace=True)\n",
    "df_store[df_store>0] = 1\n",
    "\n",
    "#select the top stores with high number of churners\n",
    "df_store = df_store.loc[:,churn_stores.index[:20]]\n",
    "df_store.columns=[\"Store_\"+str(i) for i in df_store.columns]"
   ]
  },
  {
   "cell_type": "markdown",
   "metadata": {},
   "source": [
    "### Feature 7: Amount of purchase of a household within two years"
   ]
  },
  {
   "cell_type": "code",
   "execution_count": 65,
   "metadata": {},
   "outputs": [],
   "source": [
    "purc_per_cust = df_transactions.groupby(\"household_key\").sum()[\"SALES_VALUE\"].sort_values(ascending=False)\n",
    "purc_per_cust = pd.DataFrame(list(zip(purc_per_cust.index,purc_per_cust)),columns=[\"household_key\",\"Total Purchase (USD)\"])"
   ]
  },
  {
   "cell_type": "markdown",
   "metadata": {},
   "source": [
    "# Final Dataset Building\n",
    "\n",
    "Prepairing the final dataframe, which includes our features and target variables, besides key demographics of the clients. On this dataset we will perform further exploratory analysis to pull insights from churn, and then we will train and run our prediction model. "
   ]
  },
  {
   "cell_type": "code",
   "execution_count": 72,
   "metadata": {},
   "outputs": [],
   "source": [
    "# Step to step building final df_finalframe which previous developed features:\n",
    "\n",
    "df_final = pd.merge(df_demographics,df_camp,on=\"household_key\",how=\"left\")                 # Feature 1\n",
    "df_final = pd.merge(df_final,no_of_received_campaigns,on=\"household_key\",how=\"left\")           # Feature 2\n",
    "df_final = pd.merge(df_final,df_store,on=\"household_key\",how=\"left\")                           # Feature 6\n",
    "df_final = pd.merge(df_final,no_of_rede_per_household,on=\"household_key\",how=\"left\")           # Feature 4\n",
    "df_final = pd.merge(df_final,most_freq_type,on=\"household_key\",how=\"left\")                     # Feature 5\n",
    "df_final = pd.merge(df_final,purc_per_cust,on=\"household_key\",how=\"left\")                      # Feature 7\n",
    "df_final = pd.merge(df_final,target,on=\"household_key\",how=\"left\")                             # Target "
   ]
  },
  {
   "cell_type": "code",
   "execution_count": 73,
   "metadata": {},
   "outputs": [
    {
     "data": {
      "text/plain": [
       "(801, 63)"
      ]
     },
     "execution_count": 73,
     "metadata": {},
     "output_type": "execute_result"
    }
   ],
   "source": [
    "df_final.shape"
   ]
  },
  {
   "cell_type": "code",
   "execution_count": 74,
   "metadata": {},
   "outputs": [
    {
     "data": {
      "text/html": [
       "<div>\n",
       "<style scoped>\n",
       "    .dataframe tbody tr th:only-of-type {\n",
       "        vertical-align: middle;\n",
       "    }\n",
       "\n",
       "    .dataframe tbody tr th {\n",
       "        vertical-align: top;\n",
       "    }\n",
       "\n",
       "    .dataframe thead th {\n",
       "        text-align: right;\n",
       "    }\n",
       "</style>\n",
       "<table border=\"1\" class=\"dataframe\">\n",
       "  <thead>\n",
       "    <tr style=\"text-align: right;\">\n",
       "      <th></th>\n",
       "      <th>AGE_DESC</th>\n",
       "      <th>MARITAL_STATUS_CODE</th>\n",
       "      <th>INCOME_DESC</th>\n",
       "      <th>HOMEOWNER_DESC</th>\n",
       "      <th>HH_COMP_DESC</th>\n",
       "      <th>HOUSEHOLD_SIZE_DESC</th>\n",
       "      <th>KID_CATEGORY_DESC</th>\n",
       "      <th>household_key</th>\n",
       "      <th>Camp_1</th>\n",
       "      <th>Camp_2</th>\n",
       "      <th>...</th>\n",
       "      <th>Store_450</th>\n",
       "      <th>Store_433</th>\n",
       "      <th>Store_361</th>\n",
       "      <th>Store_295</th>\n",
       "      <th>Store_320</th>\n",
       "      <th>Store_346</th>\n",
       "      <th>no_of_redeems</th>\n",
       "      <th>most_freq_camp_type</th>\n",
       "      <th>Total Purchase (USD)</th>\n",
       "      <th>isChurned</th>\n",
       "    </tr>\n",
       "  </thead>\n",
       "  <tbody>\n",
       "    <tr>\n",
       "      <th>0</th>\n",
       "      <td>65+</td>\n",
       "      <td>CommonLaw</td>\n",
       "      <td>35-49K</td>\n",
       "      <td>Homeowner</td>\n",
       "      <td>2 Adults No Kids</td>\n",
       "      <td>2</td>\n",
       "      <td>None/Unknown</td>\n",
       "      <td>1</td>\n",
       "      <td>0</td>\n",
       "      <td>0</td>\n",
       "      <td>...</td>\n",
       "      <td>0.0</td>\n",
       "      <td>0.0</td>\n",
       "      <td>0.0</td>\n",
       "      <td>0.0</td>\n",
       "      <td>0.0</td>\n",
       "      <td>0.0</td>\n",
       "      <td>5.0</td>\n",
       "      <td>TypeB</td>\n",
       "      <td>4330.16</td>\n",
       "      <td>False</td>\n",
       "    </tr>\n",
       "    <tr>\n",
       "      <th>1</th>\n",
       "      <td>45-54</td>\n",
       "      <td>CommonLaw</td>\n",
       "      <td>50-74K</td>\n",
       "      <td>Homeowner</td>\n",
       "      <td>2 Adults No Kids</td>\n",
       "      <td>2</td>\n",
       "      <td>None/Unknown</td>\n",
       "      <td>7</td>\n",
       "      <td>0</td>\n",
       "      <td>0</td>\n",
       "      <td>...</td>\n",
       "      <td>0.0</td>\n",
       "      <td>0.0</td>\n",
       "      <td>0.0</td>\n",
       "      <td>0.0</td>\n",
       "      <td>0.0</td>\n",
       "      <td>0.0</td>\n",
       "      <td>NaN</td>\n",
       "      <td>TypeB</td>\n",
       "      <td>3400.05</td>\n",
       "      <td>False</td>\n",
       "    </tr>\n",
       "    <tr>\n",
       "      <th>2</th>\n",
       "      <td>25-34</td>\n",
       "      <td>Unmarried</td>\n",
       "      <td>25-34K</td>\n",
       "      <td>Unknown</td>\n",
       "      <td>2 Adults Kids</td>\n",
       "      <td>3</td>\n",
       "      <td>1</td>\n",
       "      <td>8</td>\n",
       "      <td>0</td>\n",
       "      <td>0</td>\n",
       "      <td>...</td>\n",
       "      <td>0.0</td>\n",
       "      <td>0.0</td>\n",
       "      <td>0.0</td>\n",
       "      <td>0.0</td>\n",
       "      <td>0.0</td>\n",
       "      <td>0.0</td>\n",
       "      <td>1.0</td>\n",
       "      <td>TypeB</td>\n",
       "      <td>5534.97</td>\n",
       "      <td>False</td>\n",
       "    </tr>\n",
       "    <tr>\n",
       "      <th>3</th>\n",
       "      <td>25-34</td>\n",
       "      <td>Unmarried</td>\n",
       "      <td>75-99K</td>\n",
       "      <td>Homeowner</td>\n",
       "      <td>2 Adults Kids</td>\n",
       "      <td>4</td>\n",
       "      <td>2</td>\n",
       "      <td>13</td>\n",
       "      <td>0</td>\n",
       "      <td>0</td>\n",
       "      <td>...</td>\n",
       "      <td>0.0</td>\n",
       "      <td>0.0</td>\n",
       "      <td>0.0</td>\n",
       "      <td>0.0</td>\n",
       "      <td>0.0</td>\n",
       "      <td>0.0</td>\n",
       "      <td>21.0</td>\n",
       "      <td>TypeB</td>\n",
       "      <td>13190.92</td>\n",
       "      <td>False</td>\n",
       "    </tr>\n",
       "    <tr>\n",
       "      <th>4</th>\n",
       "      <td>45-54</td>\n",
       "      <td>RegisteredPartner</td>\n",
       "      <td>50-74K</td>\n",
       "      <td>Homeowner</td>\n",
       "      <td>Single Female</td>\n",
       "      <td>1</td>\n",
       "      <td>None/Unknown</td>\n",
       "      <td>16</td>\n",
       "      <td>0</td>\n",
       "      <td>1</td>\n",
       "      <td>...</td>\n",
       "      <td>0.0</td>\n",
       "      <td>0.0</td>\n",
       "      <td>0.0</td>\n",
       "      <td>0.0</td>\n",
       "      <td>0.0</td>\n",
       "      <td>0.0</td>\n",
       "      <td>NaN</td>\n",
       "      <td>TypeA</td>\n",
       "      <td>1512.02</td>\n",
       "      <td>True</td>\n",
       "    </tr>\n",
       "  </tbody>\n",
       "</table>\n",
       "<p>5 rows × 63 columns</p>\n",
       "</div>"
      ],
      "text/plain": [
       "  AGE_DESC MARITAL_STATUS_CODE INCOME_DESC HOMEOWNER_DESC      HH_COMP_DESC  \\\n",
       "0      65+           CommonLaw      35-49K      Homeowner  2 Adults No Kids   \n",
       "1    45-54           CommonLaw      50-74K      Homeowner  2 Adults No Kids   \n",
       "2    25-34           Unmarried      25-34K        Unknown     2 Adults Kids   \n",
       "3    25-34           Unmarried      75-99K      Homeowner     2 Adults Kids   \n",
       "4    45-54   RegisteredPartner      50-74K      Homeowner     Single Female   \n",
       "\n",
       "  HOUSEHOLD_SIZE_DESC KID_CATEGORY_DESC  household_key  Camp_1  Camp_2  ...  \\\n",
       "0                   2      None/Unknown              1       0       0  ...   \n",
       "1                   2      None/Unknown              7       0       0  ...   \n",
       "2                   3                 1              8       0       0  ...   \n",
       "3                   4                 2             13       0       0  ...   \n",
       "4                   1      None/Unknown             16       0       1  ...   \n",
       "\n",
       "   Store_450  Store_433  Store_361  Store_295  Store_320  Store_346  \\\n",
       "0        0.0        0.0        0.0        0.0        0.0        0.0   \n",
       "1        0.0        0.0        0.0        0.0        0.0        0.0   \n",
       "2        0.0        0.0        0.0        0.0        0.0        0.0   \n",
       "3        0.0        0.0        0.0        0.0        0.0        0.0   \n",
       "4        0.0        0.0        0.0        0.0        0.0        0.0   \n",
       "\n",
       "   no_of_redeems  most_freq_camp_type  Total Purchase (USD)  isChurned  \n",
       "0            5.0                TypeB               4330.16      False  \n",
       "1            NaN                TypeB               3400.05      False  \n",
       "2            1.0                TypeB               5534.97      False  \n",
       "3           21.0                TypeB              13190.92      False  \n",
       "4            NaN                TypeA               1512.02       True  \n",
       "\n",
       "[5 rows x 63 columns]"
      ]
     },
     "execution_count": 74,
     "metadata": {},
     "output_type": "execute_result"
    }
   ],
   "source": [
    "df_final.head(5)"
   ]
  },
  {
   "cell_type": "markdown",
   "metadata": {},
   "source": [
    "We still need to performe data engineering for attaining an apropiate dataframe. Change NaN or None/Unknown values to zero for the columns of \"number of received campaigns\", \"kid category\" and the \"number of redeems\""
   ]
  },
  {
   "cell_type": "code",
   "execution_count": 76,
   "metadata": {},
   "outputs": [],
   "source": [
    "df_final.no_of_received_campaigns.replace(np.nan,0,inplace=True)\n",
    "df_final.no_of_received_campaigns = df_final.no_of_received_campaigns.astype(int)\n",
    "df_final.no_of_redeems.replace(np.nan,0,inplace=True)"
   ]
  },
  {
   "cell_type": "markdown",
   "metadata": {},
   "source": [
    "Also, change other object type elements in the columns to integer for modeling purpose."
   ]
  },
  {
   "cell_type": "code",
   "execution_count": 77,
   "metadata": {},
   "outputs": [],
   "source": [
    "df_final.KID_CATEGORY_DESC.replace([\"None/Unknown\",\"3+\"],[0,3],inplace=True)\n",
    "df_final.KID_CATEGORY_DESC = df_final.KID_CATEGORY_DESC.astype(int)\n",
    "df_final.HOUSEHOLD_SIZE_DESC.replace(\"5+\",5,inplace=True)\n",
    "df_final.HOUSEHOLD_SIZE_DESC = df_final.HOUSEHOLD_SIZE_DESC.astype(int)\n",
    "df_final[\"Total Purchase (USD)\"] = df_final[\"Total Purchase (USD)\"].astype(int)"
   ]
  },
  {
   "cell_type": "code",
   "execution_count": 81,
   "metadata": {},
   "outputs": [
    {
     "name": "stdout",
     "output_type": "stream",
     "text": [
      "<class 'pandas.core.frame.DataFrame'>\n",
      "Int64Index: 801 entries, 0 to 800\n",
      "Data columns (total 63 columns):\n",
      " #   Column                    Non-Null Count  Dtype  \n",
      "---  ------                    --------------  -----  \n",
      " 0   AGE_DESC                  801 non-null    object \n",
      " 1   MARITAL_STATUS_CODE       801 non-null    object \n",
      " 2   INCOME_DESC               801 non-null    object \n",
      " 3   HOMEOWNER_DESC            801 non-null    object \n",
      " 4   HH_COMP_DESC              801 non-null    object \n",
      " 5   HOUSEHOLD_SIZE_DESC       801 non-null    int32  \n",
      " 6   KID_CATEGORY_DESC         801 non-null    int32  \n",
      " 7   household_key             801 non-null    int64  \n",
      " 8   Camp_1                    801 non-null    int32  \n",
      " 9   Camp_2                    801 non-null    int32  \n",
      " 10  Camp_3                    801 non-null    int32  \n",
      " 11  Camp_4                    801 non-null    int32  \n",
      " 12  Camp_5                    801 non-null    int32  \n",
      " 13  Camp_6                    801 non-null    int32  \n",
      " 14  Camp_7                    801 non-null    int32  \n",
      " 15  Camp_8                    801 non-null    int32  \n",
      " 16  Camp_9                    801 non-null    int32  \n",
      " 17  Camp_10                   801 non-null    int32  \n",
      " 18  Camp_11                   801 non-null    int32  \n",
      " 19  Camp_12                   801 non-null    int32  \n",
      " 20  Camp_13                   801 non-null    int32  \n",
      " 21  Camp_14                   801 non-null    int32  \n",
      " 22  Camp_15                   801 non-null    int32  \n",
      " 23  Camp_16                   801 non-null    int32  \n",
      " 24  Camp_17                   801 non-null    int32  \n",
      " 25  Camp_18                   801 non-null    int32  \n",
      " 26  Camp_19                   801 non-null    int32  \n",
      " 27  Camp_20                   801 non-null    int32  \n",
      " 28  Camp_21                   801 non-null    int32  \n",
      " 29  Camp_22                   801 non-null    int32  \n",
      " 30  Camp_23                   801 non-null    int32  \n",
      " 31  Camp_24                   801 non-null    int32  \n",
      " 32  Camp_25                   801 non-null    int32  \n",
      " 33  Camp_26                   801 non-null    int32  \n",
      " 34  Camp_27                   801 non-null    int32  \n",
      " 35  Camp_28                   801 non-null    int32  \n",
      " 36  Camp_29                   801 non-null    int32  \n",
      " 37  Camp_30                   801 non-null    int32  \n",
      " 38  no_of_received_campaigns  801 non-null    int32  \n",
      " 39  Store_318                 801 non-null    float64\n",
      " 40  Store_298                 801 non-null    float64\n",
      " 41  Store_335                 801 non-null    float64\n",
      " 42  Store_372                 801 non-null    float64\n",
      " 43  Store_321                 801 non-null    float64\n",
      " 44  Store_424                 801 non-null    float64\n",
      " 45  Store_292                 801 non-null    float64\n",
      " 46  Store_31582               801 non-null    float64\n",
      " 47  Store_404                 801 non-null    float64\n",
      " 48  Store_289                 801 non-null    float64\n",
      " 49  Store_343                 801 non-null    float64\n",
      " 50  Store_367                 801 non-null    float64\n",
      " 51  Store_412                 801 non-null    float64\n",
      " 52  Store_381                 801 non-null    float64\n",
      " 53  Store_450                 801 non-null    float64\n",
      " 54  Store_433                 801 non-null    float64\n",
      " 55  Store_361                 801 non-null    float64\n",
      " 56  Store_295                 801 non-null    float64\n",
      " 57  Store_320                 801 non-null    float64\n",
      " 58  Store_346                 801 non-null    float64\n",
      " 59  no_of_redeems             801 non-null    float64\n",
      " 60  most_freq_camp_type       760 non-null    object \n",
      " 61  Total Purchase (USD)      801 non-null    int32  \n",
      " 62  isChurned                 801 non-null    bool   \n",
      "dtypes: bool(1), float64(21), int32(34), int64(1), object(6)\n",
      "memory usage: 288.6+ KB\n"
     ]
    }
   ],
   "source": [
    "df_final.info()"
   ]
  },
  {
   "cell_type": "markdown",
   "metadata": {},
   "source": [
    "'Household_key' is the ID of a household and has served as a Primary Ke.\n",
    "It will not be used in the modelling. The rest of the data will be used."
   ]
  },
  {
   "cell_type": "code",
   "execution_count": 80,
   "metadata": {},
   "outputs": [
    {
     "data": {
      "text/plain": [
       "int32      34\n",
       "float64    21\n",
       "object      6\n",
       "int64       1\n",
       "bool        1\n",
       "dtype: int64"
      ]
     },
     "execution_count": 80,
     "metadata": {},
     "output_type": "execute_result"
    }
   ],
   "source": [
    "df_final.dtypes.value_counts()"
   ]
  },
  {
   "cell_type": "markdown",
   "metadata": {},
   "source": [
    "# Multivariate EDA"
   ]
  },
  {
   "cell_type": "markdown",
   "metadata": {},
   "source": [
    "Now we are able to pull correlations from all the variables and the churn effect."
   ]
  }
 ],
 "metadata": {
  "interpreter": {
   "hash": "ffec75719884cbdf9f1d4e689f2a92f720b21ad71994d208af44371b976dcb42"
  },
  "kernelspec": {
   "display_name": "Python 3.9.7 ('env_full')",
   "language": "python",
   "name": "python3"
  },
  "language_info": {
   "codemirror_mode": {
    "name": "ipython",
    "version": 3
   },
   "file_extension": ".py",
   "mimetype": "text/x-python",
   "name": "python",
   "nbconvert_exporter": "python",
   "pygments_lexer": "ipython3",
   "version": "3.9.7"
  },
  "orig_nbformat": 4
 },
 "nbformat": 4,
 "nbformat_minor": 2
}
